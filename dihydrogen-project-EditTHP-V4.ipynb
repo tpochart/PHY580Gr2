{
 "cells": [
  {
   "cell_type": "markdown",
   "id": "b5c27c57",
   "metadata": {},
   "source": [
    "# <center> PHY580 Gr2 - Variational Quantum Eigensolving (VQE), with an extension to an error mitigation method </center>\n",
    "\n",
    "    \n",
    "<center> DING Jacques, DUPUY Leo, KAHN Adrien, POCHART Thomas, XIONG Jie</center>\n",
    "<center> 2022.02.29 </center>"
   ]
  },
  {
   "cell_type": "code",
   "execution_count": 1,
   "id": "4c8206d8",
   "metadata": {
    "slideshow": {
     "slide_type": "skip"
    }
   },
   "outputs": [],
   "source": [
    "import numpy as np\n",
    "import matplotlib.pyplot as plt"
   ]
  },
  {
   "cell_type": "markdown",
   "id": "04c3d40c",
   "metadata": {
    "slideshow": {
     "slide_type": "slide"
    }
   },
   "source": [
    "# Computing the energy of a hydrogen molecule on a superconducting quantum processor\n",
    "\n",
    "The goal of this project is to understand how to compute the ground state energy of a hydrogen molecule using a \"noisy\" quantum computer, namely a quantum computer with physical errors. We are going to learn about two main methods to perform this task by following a recent study by O'Malley et al from the Google Quantum AI team, published in the Physical Review X journal. The paper can be downloaded from arXiv at: http://arxiv.org/abs/1512.06860 (but you should have received a printed version of it).\n",
    "\n",
    "\n",
    "The present Jupyter notebook will allow you to understand part of O'Malley et al's study. You will in particular be able to rewrite the quantum circuits used by the scientists and run perfect and noisy simulations of the quantum algorithms described in the paper. The goal of this session is to understand the pros and cons of each method and get a better understanding of hardware challenges."
   ]
  },
  {
   "cell_type": "markdown",
   "id": "b5f34ad5",
   "metadata": {
    "slideshow": {
     "slide_type": "slide"
    }
   },
   "source": [
    "## Instructions\n",
    "\n",
    "During the first session (Lecture n°7), each group (from 1 to 4) will focus on different aspects of the study:\n",
    "\n",
    "- **Group 1**: Variational Quantum Eigensolving (VQE), with a deeper focus on hardware noise\n",
    "- **Group 2**: Variational Quantum Eigensolving (VQE), with an extension to an error mitigation method\n",
    "- **Group 3**: Quantum Phase Estimation (QPE)\n",
    "- **Group 4**: Iterative Quantum Phase Estimation (IQPE)\n",
    "\n",
    "\n",
    "During the second session (Lecture n°8), each group will give a **20-minute presentation** to the other three groups, so that at the end of the presentations all groups will have the complete picture of what one can do to study the dihydrogen molecule.\n",
    "\n",
    "Here are a few guidelines for this presentation:\n",
    "\n",
    "- **All the students in the group should have a more or less equal speaking time during the presentation.**\n",
    "- Showing plots and explanatory diagrams will be appreciated\n",
    "- Equations should be kept to a minimum (but sometimes showing one equation is simpler than a long explanation!)\n",
    "- Not more than 1 slide per minute!\n",
    "- Communicating with other groups is allowed and recommended, provided your group tackles its own topic during the presentation!\n",
    "- Looking up unknown aspects on the internet is allowed and recommended!\n",
    "\n",
    "\n",
    "<div class=\"alert alert-block alert-info\">\n",
    "    \n",
    "The questions below (**starting with a star: (*)**) will guide you and should ideally be addressed during the presentation. The answers are either in the paper by O'Malley et al, or can be answered by writing a quantum program. I will also be in the different rooms to help you answer the questions. Questions with a sharp sign (**(#)**) are difficult and optional questions.\n",
    "\n",
    "</div>\n",
    "\n",
    "It is recommended to read the article (without focussing on all the details!). If you have time left at the end of the session, feel free to look at the sections of other groups to learn about other ways to tackle the problem!\n",
    "\n",
    "\n",
    "Finally, at the beginning of the second session (Lecture n°8), each group will **hand in a Jupyter notebook with the code they used to prepare the presentation** (one notebook per group!). \n",
    "\n",
    "The final grade will take into account the presentation (3/4 of the grade) and the code (1/4 of the grade)."
   ]
  },
  {
   "cell_type": "markdown",
   "id": "dab98734",
   "metadata": {
    "slideshow": {
     "slide_type": "slide"
    }
   },
   "source": [
    "## Quantum programming environment\n",
    "\n",
    "To execute the quantum programs, you will need to install the Python library called **myQLM** on your laptop. It can be installed by running the command\n",
    "\n",
    "``pip install myqlm``\n",
    "\n",
    "Then, you need to clone the course's repository to have access to the notebook and some helper functions:\n",
    "\n",
    "``git clone https://github.com/tayral/phy580_2022``\n",
    "\n",
    "It is highly advised to use the online documentation of myQLM at https://myqlm.github.io.\n",
    "\n",
    "\n",
    "Should you encounter problems with the installation (which may happen for Mac users using Anaconda), you can instead use \"myBinder\" to run the computations:\n",
    "[![Binder](https://mybinder.org/badge_logo.svg)](https://mybinder.org/v2/gh/tayral/phy580_2022/HEAD)\n",
    "\n",
    "... and open the ``dihydrogen.ipynb`` notebook.\n",
    "\n",
    "Some pieces of code have already been written to help you. They are located in the same github repository as the one where you found this notebook:\n",
    "\n",
    "- ``omalley_utils.py``: contains a function to load the Hamiltonians for various bond distances\n",
    "- ``qpe_utils.py``: contains functions that can be useful for quantum phase estimation (groups 3 and 4)\n",
    "- ``tuto_utils.py``: contains a function to compute the matrix representation of a Hamiltonian\n",
    "- ``depolarizing_plugin_vec.py``: contains a \"plugin\" for noisy simulation\n",
    "\n",
    "Reminder: in a Jupyter notebook, to print the documentation of a given function (say ``my_function``), you just have to type ``my_function?`` in a cell and press MAJ+ENTER.\n",
    "\n",
    "If you encounter programming issues or come up with physics questions during the session, feel free to ask me!"
   ]
  },
  {
   "cell_type": "markdown",
   "id": "f5ede82c",
   "metadata": {
    "slideshow": {
     "slide_type": "slide"
    }
   },
   "source": [
    "## The Hamiltonian of the dihydrogen molecule: from fermions to qubits (ALL GROUPS)\n",
    "\n",
    "The goal of this work is to determine the lowest eigenvalue (ground state) of the Hamiltonian $H(d)$ of the dihydrogen molecule for various bond distances $d$.\n",
    "\n",
    "The Hamiltonian of H$_2$ describes the kinetic and interaction energies of the nucleus and electrons of the molecule. Since the nuclei are assumed to be at fixed distance $d$ (Born-Oppenheimer approximation), only electronic operators appear in the formula for the total energy (the nuclei only contribute a constant known offset to this energy). Since electrons are fermions, these creation and annihilcation operators obey a \"fermionic\" algebra that ensures that the corresponding wavefunctions anticommute upon exchange of two particles. \n",
    "\n",
    "In order to handle this Hamiltonian with a quantum computer, O'Malley et al had to translate this Hamiltonian written in a fermionic language to a \"qubit\" Hamiltonian, namely written in terms of Pauli operators, or in other words in a spin-1/2 algebra: this is the natural language for quantum computers, whose building blocks are **qubits**, aka **spin-1/2**, aka **two-level systems**!\n",
    "\n",
    "After these transformations (called \"Bravyi-Kitaev transformations\"), the Hamiltonian ends up in the following form:\n",
    "\n",
    "$$H = \\lambda_0 I + \\sum_{i=1}^{M} \\lambda_i P_i$$\n",
    "\n",
    "with $\\lambda_i$ real coefficients, and $P_i$ products of Pauli operators. For instance, $P_i = \\sigma^x_{0}$ or $P_i = \\sigma^y_{2} \\sigma^z_{4}$. From now on, we will denote $\\sigma^x$ by $X$, and so on.\n",
    "\n",
    "\n",
    "For the H$_2$ molecule, the Hamiltonian takes the form:\n",
    "$$H = \\lambda_0 I + \\lambda_1 Z_0 + \\lambda_2 Z_1 + \\lambda_3 Z_0 Z_1 + \\lambda_4 Y_0 Y_1 + \\lambda_5 X_0 X_1 $$\n",
    "\n",
    "In particular, we notice that the Hamiltonian acts on two qubits.\n",
    "\n",
    "The $\\lambda_i$ coefficients depend on the bond distance $d$.\n",
    "\n",
    "<div class=\"alert alert-block alert-info\">\n",
    "    \n",
    "- **(*)** If $H$ were represented as a matrix, what would its size be? \n",
    "- **(*)** In general, if the Hamiltonian describes $N$ fermionic orbitals, how many qubits should it correspond to?\n",
    "- **(*)** For the H$_2$ molecule, how many orbitals do we need in principle? Does the number of qubits O'Malley take in their study correspond to what you expect?\n",
    "- **(#)** Why? (Hint: look at the explanation after Equation A.5. This question will be easier to answer at the end of the session, once you know about the methods)\n",
    "</div>"
   ]
  },
  {
   "cell_type": "markdown",
   "id": "8dabd062",
   "metadata": {},
   "source": [
    "<div class=\"alert alert-block alert-success\">\n",
    "    \n",
    "- **(*)** $H$ is acting to two qubits, therefore as a matrix, it would be of size 4*4 (16 coefficients).\n",
    "- **(*)** If \"fermionic orbital\" is meant chemically, taking into account the spin degeneracy, which is 2 for electrons, for $N$ orbitals an electron has $2N$ possible orbital-spin combinations. Using one qubit for each of these combinations (the state $|0\\rangle$ corresponding to the combination not being occupied, and the state $|1\\rangle$ to the combination being occupied), $2N$ qubits are required. However, if \"fermionic orbital\" means, more physically, one chemical orbital-spin combination, then only $N$ qubits are required. Such a choice of vocabulary does not change the answer to the following questions.\n",
    "- **(*)** We assume that we can restrict ourselves to the atomic orbitals $1s$ of each electron, which corresponds to restricting ourselves to the bonding and antibonding molecular orbitals of H$_2$. As we have $N=2$ orbitals, according to the previous question, we need $4$ qubits : interestingly, O'Malley <em>et al.</em> use only 2, which is not thus not what we expect.\n",
    "- **(#)** According to appendix A, O'Malley <em>et al.</em> initially wrote a 4-qubits Hamiltonian as expected. However, it turned out that this Hamiltonian leaves two qubits invariant, thus effectively acting on only two qubits ; by restricting themselves to this effective part, the authors were able to reduce the problem to a 2-qubits Hamiltonian.\n",
    "</div>"
   ]
  },
  {
   "cell_type": "markdown",
   "id": "732a6bdf",
   "metadata": {},
   "source": [
    "## Loading the data (ALL GROUPS)\n",
    "\n",
    "In the following cell, we load these coefficients and products and store them in a ``Observable`` object. We also load, for future use, a list of times $t_0$ (used in quantum phase estimation). "
   ]
  },
  {
   "cell_type": "code",
   "execution_count": 3,
   "id": "abc00ec3",
   "metadata": {},
   "outputs": [],
   "source": [
    "from omalley_utils import load_omalley_data_ordered\n",
    "hamilt, qpe_t0 = load_omalley_data_ordered(\"data/omalley_data_v2.csv\", keep_Z0Z1=False)"
   ]
  },
  {
   "cell_type": "markdown",
   "id": "777d6ea6",
   "metadata": {},
   "source": [
    "## 1. Exact result by full diagonalization (ALL GROUPS)\n",
    "\n",
    "The Hamiltonian we are studying acts on a small number of qubits. Therefore, we can compute its eigenvalues explicitly (contrary to more complex molecules where an exact computation on a classical computer is impossible). The minimum eigenvalue will serve as a reference for the approximate ground state energy that we will compute with a quantum computer in the sections below.\n",
    "\n",
    "To perform the diagonalization, we first construct the matrix representation of the Hamiltonian using the ``make_matrix`` function. Note that its size is exponential in the number of qubits!\n",
    "\n",
    "<div class=\"alert alert-block alert-info\">\n",
    "    \n",
    "- **(*)** How does the ``make_matrix`` function work? In other words, how would you construct a matrix representation of a product of Pauli operators $P_i$ acting on different qubits?\n",
    "    \n",
    "</div>"
   ]
  },
  {
   "cell_type": "markdown",
   "id": "80221c0e",
   "metadata": {},
   "source": [
    "<div class=\"alert alert-block alert-success\">\n",
    "    \n",
    "- **(*)** The function make matrix takes as input an Hamiltonian represented as a myqlm hamiltonian object, and outputs its matrix representation in the computational basis represented as a numpy array object. For the second part of the question, such a construction is mathematically achieved through standard operations, namely tensor products with the identity to get the action of single-qubit gates on the whole system and linear combination of the results hence obtained. <br>\n",
    "It it interesting to look a bit deeper into how myqlm hamiltonian objetcs are built. For example, let's have a look at <code>hamilt[0.2]</code> :\n",
    "</div>"
   ]
  },
  {
   "cell_type": "code",
   "execution_count": 4,
   "id": "68d2fdb3",
   "metadata": {
    "scrolled": true
   },
   "outputs": [
    {
     "data": {
      "text/plain": [
       "Observable(nbqbits=2, _constant_coeff=TNumber(is_abstract=False, type=1, int_p=None, double_p=2.169, string_p=None, matrix_p=None, serialized_p=None, complex_p=None), terms=[Term(_coeff=TNumber(is_abstract=False, type=1, int_p=None, double_p=0.5678, string_p=None, matrix_p=None, serialized_p=None, complex_p=None), op='Z', qbits=[0], _do_validity_check=True), Term(_coeff=TNumber(is_abstract=False, type=1, int_p=None, double_p=0.0791, string_p=None, matrix_p=None, serialized_p=None, complex_p=None), op='XX', qbits=[0, 1], _do_validity_check=True), Term(_coeff=TNumber(is_abstract=False, type=1, int_p=None, double_p=-1.4508, string_p=None, matrix_p=None, serialized_p=None, complex_p=None), op='Z', qbits=[1], _do_validity_check=True), Term(_coeff=TNumber(is_abstract=False, type=1, int_p=None, double_p=0.0791, string_p=None, matrix_p=None, serialized_p=None, complex_p=None), op='YY', qbits=[0, 1], _do_validity_check=True)], _ising=None, do_clean_up=True)"
      ]
     },
     "execution_count": 4,
     "metadata": {},
     "output_type": "execute_result"
    }
   ],
   "source": [
    "hamilt[0.2]"
   ]
  },
  {
   "cell_type": "markdown",
   "id": "2e859106",
   "metadata": {},
   "source": [
    "<div class=\"alert alert-block alert-success\">\n",
    "\n",
    "There are essentially three elements in this object : <br>\n",
    "    - <code>nbqubits=2</code> : indicates that it is a 2-qubits Hamiltonian. <br>\n",
    "    - <code>_constant_coefficient</code> : gives the zero of energies, i.e. the term that is proportional to the identity in the Pauli decomposition of the Hamiltonian. <br>\n",
    "    - A list <code>terms</code> of objects <code>Term(...)</code>, each of these objects corresponding to one term of the sum giving the Pauli decomposition of the Hamiltonian (see eq. (1)). While the field <code>op</code> indicates which Pauli operator the <code>Term</code> is, the field <code>double_p</code> seems to be the coefficient of this term in the linear combination defining the Hamiltonian (for example, eq. (1)).<br>\n",
    "    \n",
    "Notably, we see no ZZ term, while we would expect one from eq. (1). To explain this, one may have a look at appendix A of the paper, at the very end of which the authors state that \"<em>We further note that the term $Z_0Z_1$ commutes with all other terms in the Hamiltonian. Since the ground state of the total Hamiltonian certainly has support on the Hartree-Fock state, we know the contribution to the total energy of $Z_0Z_1$ (it is given by the expectation of those terms with the Hartree-Fock state)</em>\" : in other words, due to the choice of ansatz in this variational algorithm, the $Z_0Z_1$ term contributes by a constant factor to the overall energy and is therefore not physically relevant. As a result, it is not implemented; its implementation would only be pointless consumption of resources and source of error.\n",
    "</div>"
   ]
  },
  {
   "cell_type": "markdown",
   "id": "d48e8b7c",
   "metadata": {},
   "source": [
    "In the cell below, we perform the diagonalization using ``np.linalg.eig``."
   ]
  },
  {
   "cell_type": "code",
   "execution_count": 5,
   "id": "5e5acb9d",
   "metadata": {},
   "outputs": [
    {
     "data": {
      "image/png": "[encoded data removed]",
      "text/plain": [
       "<Figure size 432x288 with 1 Axes>"
      ]
     },
     "metadata": {
      "needs_background": "light"
     },
     "output_type": "display_data"
    }
   ],
   "source": [
    "from tuto_utils import make_matrix\n",
    "import matplotlib.pyplot as plt\n",
    "\n",
    "# h = hamilt[d]  # the hamiltonian at distance d\n",
    "# hamilt.keys() contains all distances\n",
    "\n",
    "Xplot=[]\n",
    "Yplot=[]\n",
    "\n",
    "for d in hamilt.keys():\n",
    "    M = make_matrix(hamilt[d])\n",
    "    E0 = np.min(np.linalg.eig(M)[0].real)\n",
    "    Xplot.append(d)\n",
    "    Yplot.append(E0)\n",
    "\n",
    "Xplot = np.array(Xplot)\n",
    "Yplot = np.array(Yplot)\n",
    "plt.plot(Xplot,Yplot)\n",
    "plt.xlabel('d ('+r'$\\AA$'+')')\n",
    "plt.ylabel(r'$E_0$'+' (hartree)')\n",
    "plt.show()"
   ]
  },
  {
   "cell_type": "markdown",
   "id": "bf0d6c1c",
   "metadata": {},
   "source": [
    "<div class=\"alert alert-block alert-success\">\n",
    "    \n",
    "The hartree being defined as $1 \\: \\text{hartree} = \\frac{\\hbar^2}{m_e e^2 a_0^2} = 630 \\: \\text{kcal/mol}$. It is the molar energy that can naturally be built from the constants of nature.\n",
    "</div>"
   ]
  },
  {
   "cell_type": "markdown",
   "id": "c4a2457a",
   "metadata": {},
   "source": [
    "\n",
    "\n",
    "<div class=\"alert alert-block alert-info\">\n",
    "\n",
    "- **(*)** Can you describe the curve you obtained? Can you explain the various regimes (energy that increases/decreases with $R$)? What do you expect the distance between two hydrogen atoms in a dihydrogen molecule to be?\n",
    "\n",
    "- **(*)** What is the computational complexity of diagonalizing a matrix of size $N$? What is the computational complexity of finding the ground state of a molecule with $n$ fermionic orbitals? Is this size a problem?\n",
    "    \n",
    "- **(#)** Do you know of ways to go around this problem?\n",
    "    \n",
    "</div>\n",
    "\n",
    "\n",
    "Group 3 can jump to [Section 3 on QPE](#sec:qpe).\n",
    "Group 4 can jump to [Section 4 on IQPE](#sec:iqpe)."
   ]
  },
  {
   "cell_type": "markdown",
   "id": "b1ab5e9e",
   "metadata": {},
   "source": [
    "<div class=\"alert alert-block alert-success\">\n",
    "\n",
    "- **(*)** This curve shows a global minimum, characteristic of the existence of an equilibrium bound configuration (the H$_2$ that we observe chemically in our environment). <br>\n",
    "We identify two regimes :\n",
    "<ul><li>- At a distance smaller than the equilibrium distance, the potential energy decreases. This repulsion corresponds to the repulsion between each nuclei-electron pair.</li>\n",
    "    <li>- at a distance larger than the equilibrium distance, the potential energy increases. This attraction corresponds to the fact that each nucleus electromagnetically attracts the electron of the other nucleus. As expected for such an electromagnetic phenomenon, at infinite distance the potential becomes constant and this attraction is no more.</li>\n",
    "</ul>\n",
    "The energy difference between the minimum energy and the infinite-distance energy is the dissociation energy, of which the exponential gives the chemical dissociation rate. <br>\n",
    "Given our interpretation of the equilibrium distance, we expect the distance between the two hydrogens in a dihydrogen molecule to be this equilibrium distance. This is confirmed by the fact that according to the article, this distance is $0.72 \\: {\\unicode[serif]{xC5}}$ (which is in agreement with the previous graph), so a distance that scales as $\\unicode[serif]{xC5}$ as expected.\n",
    "- **(*)** The computational complexity of diagonalizing a matrix is for traditional algorithms (e.g. QR decomposition) $O(N^3)$. Some complex algorith may do better, but for classical algorithms, there must be at least one operation per matrix element, hence a complexity of at least $O(N^2)$. <br>\n",
    "Consider now a molecule with $n$ fermionic orbitals, hence a $2^{2n} * 2^{2n}$ Hamiltonian. Assuming that the problem of finding its ground state has a cost scaling like the cost of the problem of diagonalization, the first part of the question guarantees a complexity of at least $0(2^{4n})$, which is exponentially big. (This assumption can be released by saying, like before, that any traditional algorithm finding the ground state of a matrix of size $N$ must perform at least one operation per matrix coefficient, hence a complexity of $O(N^2)$). We thus get an exponential complexity, which is a problem as it is synonymous of problems intractable for classical computers.\n",
    "- **(#)** One solution is to use adiabatic quantum computing, which is what Canadian company D-Wave does. The principle is the following : we start by applying a well-known Hamiltonian $H_0$ to a system of qubits. This being done, we take the system of qubits to its ground state. Subsequently, the adiabatic theorem of quantum mechanics guarantees that upon slowly changing the Hamiltonian from $H_0$ to an arbitrary Hamiltonian $H$, the system will very likely end up in the ground state of $H$. This method allows for the efficient determination of the ground states of $H$. <br>\n",
    "    Another solution is the Lanczos algorithm, which is a classical method to at least mitigate the size of this problem. Starting from a random state vector $|\\psi\\rangle$, we iteratively construct an orthogonal basis for the subspace $\\left( |\\psi\\rangle, \\mathcal H |\\psi\\rangle, \\mathcal H^2 |\\psi\\rangle, ..., \\mathcal H^{m - 1} |\\psi\\rangle \\right) $ by repeatedly applying $\\mathcal H$ to the last basis vector and orthogonalizing this new vector to all previous vectors. The properties of this subspace guarantees that orthogonality with all but the last two vectors is automatically taken care of. This ensures that the time complexity of one iteration is the complexity of applying $\\mathcal H$, that is $\\mathcal O (Nd)$ where $d$ is the average number of non-zero entries in the hamiltonian. Since Hamiltonians are typically rather sparse, $d$ can be very small compared to $N$. The total complexity of constructing the basis is then $\\mathcal O (mNd)$.\n",
    "The properties of this subspace also ensure that if $U$ is the matrix whose columns are the basis vectors we computed, then $\\mathcal H \\approx U T U^\\dagger$ where $U$ is the matrix whose columns are the basis vectors and $T$ is a tridiagonal matrix:\n",
    "$$T = \\begin{pmatrix}\n",
    "\\alpha_1 & \\beta_2  &          &             &              & 0 \\\\\n",
    "\\beta_2  & \\alpha_2 & \\beta_3  &             &              & \\\\\n",
    "         & \\beta_3  & \\alpha_3 & \\ddots      &              & \\\\\n",
    "         &          & \\ddots   & \\ddots      & \\beta_{m-1}  & \\\\\n",
    "         &          &          & \\beta_{m-1} & \\alpha_{m-1} & \\beta_m \\\\\n",
    "0        &          &          &             & \\beta_m      & \\alpha_m \\\\\n",
    "\\end{pmatrix}$$\n",
    "It turns out that the construction of the basis also allows us to compute the $\\alpha_k$ and $\\beta_k$ at no additional cost. With this decomposition, there are mathematical guarantees that for $m$ not too big, the lowest eigenvalue of $T$ (which is easily computed in time $\\mathcal O (m^2)$, $T$ being tridiagonal) provides a reasonable approximation of the ground energy.\n",
    "</div>"
   ]
  },
  {
   "cell_type": "markdown",
   "id": "4f9f9b4a",
   "metadata": {},
   "source": [
    "## 2. Variational Quantum Eigensolving (GROUPS 1 AND 2)\n",
    "\n",
    "The goal of Variational Quantum Eigensolving (VQE) is to find an approximate ground-state energy by choosing a smart family of states. They are called variational states, or \"ansatz\" states, and are defined as\n",
    "$$|\\psi(\\vec{\\theta}) \\rangle = U(\\vec{\\theta}) |\\psi_0\\rangle,$$\n",
    "with $U(\\vec{\\theta})$ a circuit depending on parameters $\\vec{\\theta}$ (for instance the angles of rotation gates $R_x(\\theta)$), and $|\\psi_0\\rangle$ an easy-to-prepare initial state. In the following, I will drop the arrow on $\\vec{\\theta}$, so that $\\theta$ may denote several scalar parameters.\n",
    "\n",
    "Once they are prepared by the quantum processor (or **quantum processing unit**, QPU), the average energy of the Hamiltonian at hand $H(d)$ for this state, $$E(\\theta)_r \\equiv \\langle \\psi(\\theta) | H(d) | \\psi(\\theta)\\rangle,$$ can be estimated using the QPU. A classical optimizer then uses $E(\\theta)_r$ to find the optimal parameters $\\theta^*$ that minimize this energy.\n",
    "\n",
    "In other words, VQE iteratively computes $$E(d) = \\min_\\theta \\langle \\psi(\\theta) | H(d) | \\psi(\\theta)\\rangle.$$ \n",
    "\n",
    "### Choice of ansatz\n",
    "\n",
    "The choice of ansatz is crucial in VQE. It is usually motivated by physical arguments.\n",
    "\n",
    "\n",
    "\n",
    "\n",
    "In O'Malley et al, the ansatz is chosen to be\n",
    "$$|\\psi(\\theta)\\rangle = e^{-i\\theta X_0 Y_1} |01\\rangle.$$\n",
    "This ansatz is inspired from quantum chemistry theory and goes under the name of \"Unitary Coupled Cluster\" (UCC) ansatz.\n",
    "\n",
    "\n",
    "<div class=\"alert alert-block alert-info\">\n",
    "    \n",
    "- **(*)** Why do O'Malley et al start from state $|01\\rangle$? What is the name of this state in chemistry?\n",
    "- **(*)** What are the inspirations behind the choice of a variational state? (for instance, what is the influence of increasing the number of variational parameters?)\n",
    "- **(*)** What hardware constraints should one take into account when picking a variational state?\n",
    "</div>"
   ]
  },
  {
   "cell_type": "markdown",
   "id": "0e624410",
   "metadata": {},
   "source": [
    "<div class=\"alert alert-block alert-success\">\n",
    "\n",
    "- **(*)** According to the article, appendix B, \"The experiment is performed in different gauges of the Bravyi-Kitaev transform; these correspond to the |0⟩ (|1⟩) state of q0 representing the first orbital being unoccupied (occupied) or occupied (unoccupied), and similarly for q1 representing the parity of the first two orbitals being even (odd) or odd (even). In practice, a gauge change means a flip of the value of one or both qubits in the Hartree-Fock (HF) input state, and a sign change on the relevant terms of the Hamiltonian. In the standard gauge, the HF state is |01⟩\". From this, we deduce that |01⟩ should be understood as the occupation of an orbital with a certain parity; this can be related to the theory of atomic and molecular orbitals. For H2, the atomic orbitals are the two electronic 1s orbitals (one par electron) : the molecular orbitals are then obtained either by an even combination of these orbitals, giving the bonding molecular orbital, or by an odd combination of these orbitals, giving the antibonding molecular orbital. Hence, we can think of |01⟩ as an appoximation of what the ground state should be based on the knowledge that in an H2 molecule, the two H atoms indeed bond. As said before, this state is referred to as the Hartree-Fock state.\n",
    "- **(*)** In general, the principle of variational methods is to span a subset of all the possible states, the elements of this subset being indexed by one or more variational parameters that vary continuously. The goal is then to algorithmically go through this subset and find the state giving the lowest energy. The process will be a success provided that the lowest energy attainable in this subset is close to (or even equal to) the ground state energy; hence choosing well the subset is critical. On the one hand, it is simply not possible to take the whole set of possible states as this subset (this constraint being the very reason of the existence of variational methods), while on the other hand, we want the minimal energy found to be as close as possible to the ground state energy. This is why O'Malley et al. make use of chemical intuition to choose their subspace.<br>\n",
    "More precisely, if we consider the minimal basis H$_2$ model, the Hartree Fock state is $\\left|01\\right> $(actually it is $\\left|0011\\right>$), which we set as the initial state of variational method. We know that because of mean field approximation, the calculated energy of Hartree Fock state is above the exact energy and the difference is called correlation error. To decrease such error and obtain a more accurate energy, post Hartree Fock method is needed: configuration interactions / coupled cluster method are thus taken into consideration. (Because the whole Fock space is finite in Minimal Basis H$_2$ model, full CI and CC are equivalent to each other. So here we describe CI method, which takes the sum of excitation, instead of CC, which takes the product of excitation. This will cause no difference in the final choice of ansatz.) Here we can do a singly excitation (where we excite one electron in the bonding level to the anti-bonding level, 4 states) or a doubly excitation (where we excite two electrons to higher energy, 1 state). Then the exact wavefunction will be linear combinations of the six determinants with six parameters, which is a huge space. However, if we consider the symmetry of the orbital, we will only reserve the Hartree Fock state and doubly exicited state, and write the variational state as a combination of $\\left|01\\right>$ and $\\left|10\\right>$. In this way, only one parameter $\\theta$ is needed.<br>\n",
    "Indeed, the more there are parameters, the bigger the subset is and the better the algorithm performs. But more computational resources will be used if a bigger variational subset is chosen. Therefore, we should find the balance between the accuracy and computational cost. Also, the more parameters are used, the more difficult it will be to do the gradient descent and find the global minimum. Such difficulty should be considered when building the model.\n",
    "Indeed, the more there are parameters, the bigger the subset is and the better the algorithm performs. But more computational resources will be used if a bigger variational subset is chosen. Therefore, we should find the balance between the accuracy and computational cost. Also, the more parameters are used, the more difficult it will be to do the gradient descent and find the global minimum. Such difficulty should be considered when building the model.\n",
    "\n",
    "- **(*)** We denote for the sake of the simplicity of notations our variational state |ψ(θ)⟩, as in the problem at hand. The first of hardware constraints is indeed that the hardware should be able to implement |ψ(θ)⟩ for a wide enough range of θ. the second constraint, which is a bit more subtle, relates to the step with which θ evolves throughout the algorithmic process. In reality, when the hardware is asked to implement |ψ(θ)⟩, it implements some random |ψ′(θ)⟩≈|ψ(θ)⟩. Assuming that θ evolves in steps of δθ thoughout the algorithm, we want |ψ′(θ)⟩ and |ψ′(θ+δθ)⟩ to be distinguishable, so that the algorithm does not get stuck far away from the target minimum just because the hardware has too much noise for the gradient descent to be performed. So we prefer a shorter circuit (on the premise that the computational task can be achieved) which has less noise and error rate.\n",
    "</div>"
   ]
  },
  {
   "cell_type": "markdown",
   "id": "6886d376",
   "metadata": {},
   "source": [
    "###### We now want to design a quantum circuit that creates such a state. O'Malley et al take the following variational circuit:\n",
    "\n",
    "<div align=\"center\"><img src=\"data/omalley_fig1.png\" width=\"50%\"></div>\n",
    "\n",
    "<div class=\"alert alert-block alert-info\">\n",
    "    \n",
    "- **(*)** Can you prove that this circuit indeed corresponds to our ansatz $e^{-i\\theta X_0 Y_1} |01\\rangle$ (up to a global phase)?\n",
    "</div>"
   ]
  },
  {
   "cell_type": "markdown",
   "id": "811a04bf",
   "metadata": {},
   "source": [
    "<div class=\"alert alert-block alert-success\">\n",
    "\n",
    "To perform this proof, we will use python package SymPy to perform symbolic calculation and check that indeed, the matrix representations of the output of the circuit corresponds to the matrix representation of the ansatz. <br>\n",
    "All the calculations will be carried out in the computational basis.\n",
    "</div>"
   ]
  },
  {
   "cell_type": "code",
   "execution_count": 73,
   "id": "19a1c4a7",
   "metadata": {},
   "outputs": [],
   "source": [
    "# Imports \n",
    "from sympy import *\n",
    "from sympy.functions import sqrt, exp\n",
    "from sympy.physics.quantum import TensorProduct"
   ]
  },
  {
   "cell_type": "code",
   "execution_count": 74,
   "id": "af6b010c",
   "metadata": {},
   "outputs": [],
   "source": [
    "# Defining the gates used in the calculation and the Hartree-Fock state\n",
    "# # Theta symbolic variable\n",
    "theta = symbols('theta')\n",
    "# # Gates\n",
    "Ztheta = Matrix([[1,0],[0,-exp(-I*2*theta)]])\n",
    "Id = Matrix([[1,0],[0,1]])\n",
    "Yhalfpi = 1/sqrt(2)*Matrix([[1,-1],[1,1]])\n",
    "Xhalfpi = 1/sqrt(2)*Matrix([[1,-I],[-I,1]])\n",
    "CNOT = Matrix([[1,0,0,0],[0,1,0,0],[0,0,0,1],[0,0,1,0]])\n",
    "X0=TensorProduct(Matrix([[0,1],[1,0]]),Id)\n",
    "Y1=TensorProduct(Id,Matrix([[0,-I],[I,0]]))\n",
    "X0Y1=X0*Y1\n",
    "# # Hartree-Fock state\n",
    "HFS = Matrix([0,1,0,0])"
   ]
  },
  {
   "cell_type": "code",
   "execution_count": 75,
   "id": "e96ce27c",
   "metadata": {},
   "outputs": [
    {
     "data": {
      "text/latex": [
       "$\\displaystyle \\left[\\begin{matrix}0\\\\- \\cos{\\left(\\theta \\right)}\\\\\\sin{\\left(\\theta \\right)}\\\\0\\end{matrix}\\right]$"
      ],
      "text/plain": [
       "Matrix([\n",
       "[          0],\n",
       "[-cos(theta)],\n",
       "[ sin(theta)],\n",
       "[          0]])"
      ]
     },
     "execution_count": 75,
     "metadata": {},
     "output_type": "execute_result"
    }
   ],
   "source": [
    "# Output of the circuit\n",
    "Circuit = TensorProduct(Yhalfpi,Xhalfpi)*CNOT*TensorProduct(Id,Ztheta)*CNOT*TensorProduct(Yhalfpi,Xhalfpi)\n",
    "simplify(Circuit*HFS*exp(I*theta))"
   ]
  },
  {
   "cell_type": "code",
   "execution_count": 76,
   "id": "fda05990",
   "metadata": {
    "scrolled": true
   },
   "outputs": [
    {
     "data": {
      "text/latex": [
       "$\\displaystyle \\left[\\begin{matrix}0\\\\\\cos{\\left(\\theta \\right)}\\\\- \\sin{\\left(\\theta \\right)}\\\\0\\end{matrix}\\right]$"
      ],
      "text/plain": [
       "Matrix([\n",
       "[          0],\n",
       "[ cos(theta)],\n",
       "[-sin(theta)],\n",
       "[          0]])"
      ]
     },
     "execution_count": 76,
     "metadata": {},
     "output_type": "execute_result"
    }
   ],
   "source": [
    "# Ansatz\n",
    "simplify(exp(-I*theta*X0Y1)*HFS)"
   ]
  },
  {
   "cell_type": "markdown",
   "id": "e63c6826",
   "metadata": {},
   "source": [
    "<div class=\"alert alert-block alert-success\">\n",
    "\n",
    "These two states being the same (up to a global phase), the proposed circuit realizes the ansatz as expected.\n",
    "</div>"
   ]
  },
  {
   "cell_type": "code",
   "execution_count": 6,
   "id": "6183eeb8",
   "metadata": {},
   "outputs": [],
   "source": [
    "#We re-import MyQLM dependencies to avoid conflict with some SymPy imports\n",
    "from qat.lang.AQASM import Program, X, RY, RX, RZ, CNOT"
   ]
  },
  {
   "cell_type": "markdown",
   "id": "9e44cc98",
   "metadata": {},
   "source": [
    "\n",
    "In the next cell we create the ansatz circuit (see https://myqlm.github.io/getting_started.html#a-simple-variational-algorithm for a simple example).\n",
    "\n",
    "We note that since $\\theta$ is a variable, we need to declare it as such.\n",
    "\n",
    "\n",
    "(Note: you can safely replace the $R_x(\\pi)$ gate with a $X$ gate as they are related by a global phase: $R_x(\\pi) = i X$)"
   ]
  },
  {
   "cell_type": "code",
   "execution_count": 7,
   "id": "ed34e899",
   "metadata": {},
   "outputs": [
    {
     "data": {
      "text/html": [
       "<svg baseProfile=\"full\" height=\"400\" version=\"1.1\" viewBox=\"0 0 497 165\" width=\"1200\" xmlns=\"http://www.w3.org/2000/svg\" xmlns:ev=\"http://www.w3.org/2001/xml-events\" xmlns:xlink=\"http://www.w3.org/1999/xlink\"><defs><style type=\"text/css\"><![CDATA[@font-face{ \n",
       "    font-family: \"STIXMathJax_Main-Italic\"; \n",
       "    src: url(\"data:application/x-font-opentype;charset=utf-8;base64,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\"); \n",
       "}\n",
       "]]></style></defs><text style=\"font-family: STIXMathJax_Main-Italic; font-size: 16px;\" x=\"10\" y=\"37\">Q0</text><line stroke=\"rgb(0,0,0)\" x1=\"50\" x2=\"497\" y1=\"32\" y2=\"32\" /><text style=\"font-family: STIXMathJax_Main-Italic; font-size: 16px;\" x=\"10\" y=\"69\">Q1</text><line stroke=\"rgb(0,0,0)\" x1=\"50\" x2=\"497\" y1=\"64\" y2=\"64\" /><rect fill=\"white\" height=\"24\" stroke=\"black\" stroke-width=\"2\" width=\"28\" x=\"60\" y=\"52\" /><text style=\"font-family: STIXMathJax_Main-Italic; font-size: 16px;\" x=\"68\" y=\"69\">X</text><rect fill=\"white\" height=\"24\" stroke=\"black\" stroke-width=\"2\" width=\"73\" x=\"60\" y=\"20\" /><text style=\"font-family: STIXMathJax_Main-Italic; font-size: 16px;\" x=\"68\" y=\"37\">RY [π/2]</text><rect fill=\"white\" height=\"24\" stroke=\"black\" stroke-width=\"2\" width=\"74\" x=\"143\" y=\"52\" /><text style=\"font-family: STIXMathJax_Main-Italic; font-size: 16px;\" x=\"151\" y=\"69\">RX [π/2]</text><line stroke=\"rgb(0,0,0)\" x1=\"243\" x2=\"243\" y1=\"64\" y2=\"32\" /><circle cx=\"243\" cy=\"32\" fill=\"black\" r=\"4\" /><g><circle cx=\"243\" cy=\"64\" fill=\"white\" r=\"8\" stroke=\"black\" stroke-width=\"1\" /><line stroke=\"rgb(0,0,0)\" x1=\"235\" x2=\"251\" y1=\"64\" y2=\"64\" /><line stroke=\"rgb(0,0,0)\" x1=\"243\" x2=\"243\" y1=\"56\" y2=\"72\" /></g><rect fill=\"white\" height=\"24\" stroke=\"black\" stroke-width=\"2\" width=\"84\" x=\"269\" y=\"52\" /><text style=\"font-family: STIXMathJax_Main-Italic; font-size: 16px;\" x=\"277\" y=\"69\">RZ [theta]</text><line stroke=\"rgb(0,0,0)\" x1=\"379\" x2=\"379\" y1=\"64\" y2=\"32\" /><circle cx=\"379\" cy=\"32\" fill=\"black\" r=\"4\" /><g><circle cx=\"379\" cy=\"64\" fill=\"white\" r=\"8\" stroke=\"black\" stroke-width=\"1\" /><line stroke=\"rgb(0,0,0)\" x1=\"371\" x2=\"387\" y1=\"64\" y2=\"64\" /><line stroke=\"rgb(0,0,0)\" x1=\"379\" x2=\"379\" y1=\"56\" y2=\"72\" /></g><rect fill=\"white\" height=\"24\" stroke=\"black\" stroke-width=\"2\" width=\"73\" x=\"405\" y=\"20\" /><text style=\"font-family: STIXMathJax_Main-Italic; font-size: 16px;\" x=\"413\" y=\"37\">RY [π/2]</text><rect fill=\"white\" height=\"24\" stroke=\"black\" stroke-width=\"2\" width=\"74\" x=\"405\" y=\"52\" /><text style=\"font-family: STIXMathJax_Main-Italic; font-size: 16px;\" x=\"413\" y=\"69\">RX [π/2]</text></svg>"
      ],
      "text/plain": [
       "<IPython.core.display.HTML object>"
      ]
     },
     "execution_count": 7,
     "metadata": {},
     "output_type": "execute_result"
    }
   ],
   "source": [
    "prog = Program()\n",
    "# we declare a variable 'theta'\n",
    "theta = prog.new_var(float, \"\\\\theta\")\n",
    "# we allocate 2 qubits\n",
    "qbits = prog.qalloc(2)\n",
    "\n",
    "\n",
    "# apply gates ...\n",
    "\n",
    "prog.apply(X,qbits[1])\n",
    "prog.apply(RY(np.pi/2.),qbits[0])\n",
    "prog.apply(RX(np.pi/2.),qbits[1])\n",
    "prog.apply(CNOT,qbits)\n",
    "prog.apply(RZ(theta),qbits[1])\n",
    "prog.apply(CNOT,qbits)\n",
    "prog.apply(RY(np.pi/2.),qbits[0])\n",
    "prog.apply(RX(np.pi/2.),qbits[1])\n",
    "\n",
    "circ = prog.to_circ()\n",
    "\n",
    "%qatdisplay circ --svg"
   ]
  },
  {
   "cell_type": "markdown",
   "id": "593cbf30",
   "metadata": {},
   "source": [
    "<div class=\"alert alert-block alert-success\">\n",
    "    \n",
    "It turns out that the convention for the order in which we name the qubits is not the same between our software and the article; has name swap this as absolutely no effect on any result, we will simply ignore it.\n",
    "</div>"
   ]
  },
  {
   "cell_type": "markdown",
   "id": "1df572fe",
   "metadata": {},
   "source": [
    "### 2.a) Execution on perfect qubits\n",
    "\n",
    "We now perform the actual VQE simulation with a perfect (simulated) quantum computer, which we will also refer to as a \"Quantum Processing Unit\" (QPU).\n",
    "\n",
    "Intuitively, a QPU may be regarded a black box that takes, as an input, a quantum job comprising a quantum circuit $U$ and an observable $H$ and returns, as an output, an estimate of $E = \\langle 0\\dots 0 | U^\\dagger H U |0\\dots 0\\rangle$.\n",
    "\n",
    "Using this QPU, we could write the optimization loop ourselves, in the form of a *for* loop that proposes new parameters $\\theta_{i+1}$ after the computation of $E(\\theta_i)$). Instead, we use existing tools performing this optimization natively.\n",
    "\n",
    "We do this by constructing a \"smart\" QPU that, instead of accepting simple jobs $(U, H)$, accepts parametric jobs $(U(\\theta), H)$, and whose task is to minimize $E = \\langle 0\\dots 0 | U^\\dagger(\\theta) H U(\\theta) |0\\dots 0\\rangle$.\n",
    "\n",
    "This smart QPU is constructed by prepending to the simple QPU a so-called \"plugin\" that carries out the optimization loop (with a method that can be chosen at will).\n",
    "\n",
    "Let us note that the ``qpu`` object of the stack can be replaced with a \"true\" QPU, i.e a true quantum processor! (see https://myqlm.github.io/myqlm_specific/qiskit.html#module-qat.interop.qiskit.providers if you want to try with an IBM processor!)\n",
    "\n",
    "#### One VQE execution for a given bond distance\n",
    "\n",
    "Let us take a first example for a given bond distance $d=0.2 A$ (taking inspiration from https://myqlm.github.io/getting_started.html#a-simple-variational-algorithm):"
   ]
  },
  {
   "cell_type": "code",
   "execution_count": 8,
   "id": "03cfbe3e",
   "metadata": {},
   "outputs": [
    {
     "data": {
      "image/png": "[encoded data removed]",
      "text/plain": [
       "<Figure size 432x288 with 1 Axes>"
      ]
     },
     "metadata": {
      "needs_background": "light"
     },
     "output_type": "display_data"
    }
   ],
   "source": [
    "from qat.qpus import PyLinalg\n",
    "from qat.plugins import ScipyMinimizePlugin\n",
    "qpu = PyLinalg()\n",
    "plugin = ScipyMinimizePlugin(method='Nelder-Mead')\n",
    "\n",
    "smart_qpu = plugin | qpu\n",
    "\n",
    "# run the variational computation\n",
    "\n",
    "\n",
    "job = circ.to_job(observable=hamilt[0.2],nbshots=10000)\n",
    "result = smart_qpu.submit(job)\n",
    "\n",
    "# plot the variational energy as a function of the optimization step\n",
    "  \n",
    "plt.plot(eval(result.meta_data[\"optimization_trace\"]))\n",
    "plt.xlabel('variational step')\n",
    "plt.ylabel('variational energy (hartree)')\n",
    "plt.show()"
   ]
  },
  {
   "cell_type": "markdown",
   "id": "46d49f0e",
   "metadata": {},
   "source": [
    "<div class=\"alert alert-block alert-success\">\n",
    "\n",
    "Using a splitter:\n",
    "</div>"
   ]
  },
  {
   "cell_type": "code",
   "execution_count": 10,
   "id": "8e941037",
   "metadata": {},
   "outputs": [
    {
     "data": {
      "image/png": "[encoded data removed]",
      "text/plain": [
       "<Figure size 432x288 with 1 Axes>"
      ]
     },
     "metadata": {
      "needs_background": "light"
     },
     "output_type": "display_data"
    }
   ],
   "source": [
    "from qat.qpus import PyLinalg\n",
    "from qat.plugins import ScipyMinimizePlugin\n",
    "qpu = PyLinalg()\n",
    "plugin = ScipyMinimizePlugin(method='Nelder-Mead')\n",
    "\n",
    "from qat.plugins import ObservableSplitter\n",
    "splitter = ObservableSplitter()\n",
    "\n",
    "smart_qpu = plugin | splitter | qpu\n",
    "\n",
    "# run the variational computation\n",
    "\n",
    "\n",
    "job = circ.to_job(observable=hamilt[0.2],nbshots=10000)\n",
    "result = smart_qpu.submit(job)\n",
    "\n",
    "# plot the variational energy as a function of the optimization step\n",
    "  \n",
    "plt.plot(eval(result.meta_data[\"optimization_trace\"]))\n",
    "plt.xlabel('variational step')\n",
    "plt.ylabel('variational energy (hartree)')\n",
    "plt.show()"
   ]
  },
  {
   "cell_type": "markdown",
   "id": "371d4a4e",
   "metadata": {},
   "source": [
    "<div class=\"alert alert-block alert-info\">\n",
    "    \n",
    "- **(*)** Does the result depend on the classical optimizer used? What happens when you change \"Nelder-Mead\" to another scipy optimizer (check the documentation of scipy.optimize.minimize: https://docs.scipy.org/doc/scipy/reference/generated/scipy.optimize.minimize.html)?\n",
    "</div>"
   ]
  },
  {
   "cell_type": "markdown",
   "id": "088591d9",
   "metadata": {},
   "source": [
    "<div class=\"alert alert-block alert-success\">\n",
    "    \n",
    "- **(*)** To answer this question, the simplest method is to plot the previous graph for all the compatible methods. We get:    \n",
    "</div>"
   ]
  },
  {
   "cell_type": "code",
   "execution_count": 12,
   "id": "64c63e2c",
   "metadata": {},
   "outputs": [
    {
     "data": {
      "image/png": "[encoded data removed]",
      "text/plain": [
       "<Figure size 432x288 with 1 Axes>"
      ]
     },
     "metadata": {
      "needs_background": "light"
     },
     "output_type": "display_data"
    }
   ],
   "source": [
    "methods = ['Nelder-Mead','Powell','CG','BFGS','L-BFGS-B','TNC','COBYLA','SLSQP','trust-constr']\n",
    "for method in methods:\n",
    "    plugin = ScipyMinimizePlugin(method=method)\n",
    "    smart_qpu = plugin | qpu\n",
    "\n",
    "    # run the variational computation\n",
    "    job = circ.to_job(observable=hamilt[0.2],nbshots=0)\n",
    "    result = smart_qpu.submit(job)\n",
    "    E0=result.value\n",
    "\n",
    "    # plot the variational energy as a function of the optimization step\n",
    "    plt.plot(eval(result.meta_data[\"optimization_trace\"]),label=method)\n",
    "plt.legend(loc='upper right')\n",
    "plt.xlabel('variational step')\n",
    "plt.ylabel('variational energy (hartree)')\n",
    "plt.show()"
   ]
  },
  {
   "cell_type": "markdown",
   "id": "b9f46c7c",
   "metadata": {},
   "source": [
    "<div class=\"alert alert-block alert-success\">\n",
    "\n",
    "Of course, all the methods do not follow the same path towards convergence. But, as one would expect for the problem at hand (which seems mathematically nice: there exists a global minimum and no other local minimum, the function to optimize is smooth...), all the methods do converge towards the same value.\n",
    "</div>"
   ]
  },
  {
   "cell_type": "markdown",
   "id": "969ffcf4",
   "metadata": {},
   "source": [
    "<div class=\"alert alert-block alert-info\">\n",
    "    \n",
    "- **(*)** On a real QPU, how is the average energy of a given state, $\\langle \\psi | H|\\psi \\rangle$, measured? (how do we handle the fact that our $H$ is a sum of (possibly) non-commuting Pauli observables?)\n",
    "\n",
    "- **(*)** Why do we expect a statistical error on this estimate? How does it scale with the number of measurements (also called shots)?\n",
    "\n",
    "- **(*)** Can you check that you obtain this behavior with the QPU simulator above (for a given $\\theta$)? This can be done by using the \"nbshots\" parameter of the ``to_job`` method (no parameter, or nbshots=0, means an infinite number of shots and hence no statistical errors).\n",
    "    \n",
    "</div>"
   ]
  },
  {
   "cell_type": "markdown",
   "id": "1f538779",
   "metadata": {},
   "source": [
    "<div class=\"alert alert-block alert-success\">\n",
    "    \n",
    "\n",
    "- **(*)** Assume that H is the sum of $m$ sets of commuting Pauli observables. To measure $\\langle H \\rangle$ for $n$ shots, we measure the average of each set of commuting Pauli observables for $n$ shots each (by rotating the state and not the measurement apparuts if the measurement isn't along Z), before recombining these averages in $\\langle H \\rangle$. In particular, the $n$ shots average $\\langle H \\rangle$ was obtained with $m*n$ shots actually.\n",
    "- **(*)** The laws of quantum mechanics guarantee that such a statistical error exists, and that this error scales as $1/\\sqrt{n}$ with $n$ the number of shots.\n",
    "- **(*)** To proceed with this verification, we compute the error and check that it scales as $1/ \\sqrt{n}$. The reader should be aware that this computation may take some time.\n",
    "</div>"
   ]
  },
  {
   "cell_type": "code",
   "execution_count": 13,
   "id": "487b2cb8",
   "metadata": {},
   "outputs": [
    {
     "name": "stderr",
     "output_type": "stream",
     "text": [
      "C:\\ProgramData\\Anaconda3\\lib\\site-packages\\scipy\\optimize\\optimize.py:461: RuntimeWarning: invalid value encountered in double_scalars\n",
      "  return function(*(wrapper_args + args))\n"
     ]
    },
    {
     "data": {
      "image/png": "[encoded data removed]",
      "text/plain": [
       "<Figure size 432x288 with 1 Axes>"
      ]
     },
     "metadata": {
      "needs_background": "light"
     },
     "output_type": "display_data"
    }
   ],
   "source": [
    "# Statistical error analysis\n",
    "\n",
    "qpu = PyLinalg()\n",
    "plugin = ScipyMinimizePlugin(method='Nelder-Mead')\n",
    "\n",
    "from qat.plugins import ObservableSplitter\n",
    "splitter = ObservableSplitter()\n",
    "\n",
    "smart_qpu = plugin | splitter | qpu\n",
    "\n",
    "# We start by computing the exact result\n",
    "\n",
    "job = circ.to_job(observable=hamilt[0.2],nbshots=0)\n",
    "result = smart_qpu.submit(job)\n",
    "V_th=result.value\n",
    "\n",
    "# For different values of N, we compute the experimental value\n",
    "\n",
    "\n",
    "# We expect |V_th - V_exp(N)|/V_th to scale as 1/sqrt(N), so essentially to have |V_th - V_exp(N)|*sqrt(N) constant with respect to N\n",
    "\n",
    "Nvalues = np.array([1]+[10* x for x in range(1,101)])\n",
    "V_exp = []\n",
    "\n",
    "for N in Nvalues:    \n",
    "    job = circ.to_job(observable=hamilt[0.2],nbshots=N)\n",
    "    result = smart_qpu.submit(job)\n",
    "    V_exp.append(result.value)\n",
    "\n",
    "V_exp = np.array(V_exp)\n",
    "\n",
    "plt.plot(Nvalues,(np.abs(V_th-V_exp)),'bo')\n",
    "plt.ylabel(r'$|V_{th}-V_{exp|}*\\sqrt{N}$')\n",
    "plt.xlabel('N')\n",
    "plt.show()"
   ]
  },
  {
   "cell_type": "code",
   "execution_count": 83,
   "id": "c8e69fd3",
   "metadata": {},
   "outputs": [
    {
     "name": "stderr",
     "output_type": "stream",
     "text": [
      "C:\\ProgramData\\Anaconda3\\lib\\site-packages\\scipy\\optimize\\optimize.py:461: RuntimeWarning: invalid value encountered in double_scalars\n",
      "  return function(*(wrapper_args + args))\n"
     ]
    },
    {
     "data": {
      "image/png": "[encoded data removed]",
      "text/plain": [
       "<Figure size 432x288 with 1 Axes>"
      ]
     },
     "metadata": {
      "needs_background": "light"
     },
     "output_type": "display_data"
    }
   ],
   "source": [
    "# Statistical error analysis\n",
    "\n",
    "qpu = PyLinalg()\n",
    "plugin = ScipyMinimizePlugin(method='Nelder-Mead')\n",
    "\n",
    "from qat.plugins import ObservableSplitter\n",
    "splitter = ObservableSplitter()\n",
    "\n",
    "smart_qpu = plugin | splitter | qpu\n",
    "\n",
    "# We start by computing the exact result\n",
    "\n",
    "job = circ.to_job(observable=hamilt[0.2],nbshots=0)\n",
    "result = smart_qpu.submit(job)\n",
    "V_th=result.value\n",
    "\n",
    "# For different values of N, we compute the experimental value\n",
    "\n",
    "\n",
    "# We expect |V_th - V_exp(N)|/V_th to scale as 1/sqrt(N), so essentially to have |V_th - V_exp(N)|*sqrt(N) constant with respect to N\n",
    "\n",
    "Nvalues = np.array([1]+[10* x for x in range(1,101)])\n",
    "V_exp = []\n",
    "\n",
    "for N in Nvalues:    \n",
    "    job = circ.to_job(observable=hamilt[0.2],nbshots=N)\n",
    "    result = smart_qpu.submit(job)\n",
    "    V_exp.append(result.value)\n",
    "\n",
    "V_exp = np.array(V_exp)\n",
    "\n",
    "plt.plot(Nvalues,(np.abs(V_th-V_exp))*np.sqrt(Nvalues),'bo')\n",
    "plt.ylabel(r'$|V_{th}-V_{exp|}*\\sqrt{N}$')\n",
    "plt.xlabel('N')\n",
    "plt.show()"
   ]
  },
  {
   "cell_type": "markdown",
   "id": "584690e7",
   "metadata": {},
   "source": [
    "<div class=\"alert alert-block alert-success\">\n",
    "\n",
    "Even though it is not perfect, the great majority of points align on an horizontal line as expected; thus, we can say that we indeed recovered the behavior that was to investigate.\n",
    "</div>"
   ]
  },
  {
   "cell_type": "markdown",
   "id": "91388346",
   "metadata": {},
   "source": [
    "#### VQE for all bond distances\n",
    "\n",
    "We now carry out the VQE procedure for all bond distances:"
   ]
  },
  {
   "cell_type": "code",
   "execution_count": 84,
   "id": "087cf536",
   "metadata": {},
   "outputs": [
    {
     "name": "stderr",
     "output_type": "stream",
     "text": [
      "C:\\ProgramData\\Anaconda3\\lib\\site-packages\\scipy\\optimize\\_hessian_update_strategy.py:182: UserWarning: delta_grad == 0.0. Check if the approximated function is linear. If the function is linear better results can be obtained by defining the Hessian as zero instead of using quasi-Newton approximations.\n",
      "  warn('delta_grad == 0.0. Check if the approximated '\n"
     ]
    },
    {
     "data": {
      "image/png": "[encoded data removed]",
      "text/plain": [
       "<Figure size 432x288 with 1 Axes>"
      ]
     },
     "metadata": {
      "needs_background": "light"
     },
     "output_type": "display_data"
    }
   ],
   "source": [
    "# We use all the possible optimization routines for the sake of comparison (it still runs in a decent time)\n",
    "\n",
    "Xplot=[]\n",
    "Yplot=[]\n",
    "\n",
    "for d in hamilt.keys():\n",
    "    M = make_matrix(hamilt[d])\n",
    "    E0 = np.min(np.linalg.eig(M)[0].real)\n",
    "    Xplot.append(d)\n",
    "    Yplot.append(E0)\n",
    "\n",
    "Xplot = np.array(Xplot)\n",
    "Yplot = np.array(Yplot)\n",
    "plt.plot(Xplot,Yplot,label='exact')\n",
    "\n",
    "qpu = PyLinalg()\n",
    "methods = ['Nelder-Mead','Powell','CG','BFGS','L-BFGS-B','TNC','COBYLA','SLSQP','trust-constr']\n",
    "for method in methods:\n",
    "    plugin = ScipyMinimizePlugin(method=method)\n",
    "\n",
    "    smart_qpu = plugin | qpu\n",
    "\n",
    "    # run the variational computation\n",
    "\n",
    "    Xplot=[]\n",
    "    Yplot=[]\n",
    "\n",
    "    for d in hamilt.keys():\n",
    "        job = circ.to_job(observable=hamilt[d],nbshots=100)\n",
    "        result = smart_qpu.submit(job)\n",
    "        E0=result.value\n",
    "        #print(f\"Minimum VQE energy ={result.value}\")\n",
    "        Xplot.append(d)\n",
    "        Yplot.append(E0)\n",
    "\n",
    "    Xplot = np.array(Xplot)\n",
    "    Yplot = np.array(Yplot)\n",
    "    plt.plot(Xplot,Yplot,label=method)\n",
    "plt.legend(loc='upper right')\n",
    "plt.xlabel('d ('+r'$\\AA$'+')')\n",
    "plt.ylabel(r'$E_0$'+' (hartree)')\n",
    "plt.show()"
   ]
  },
  {
   "cell_type": "markdown",
   "id": "b808086e",
   "metadata": {},
   "source": [
    "\n",
    "\n",
    "<div class=\"alert alert-block alert-info\">\n",
    "\n",
    "- **(*)** What do you observe? Is the VQE energy accurate compared to \"chemical accuracy\" (what is chemical accuracy? why is this value chosen?)\n",
    "\n",
    "</div>"
   ]
  },
  {
   "cell_type": "markdown",
   "id": "cc0298f7",
   "metadata": {},
   "source": [
    "<div class=\"alert alert-block alert-success\">\n",
    "\n",
    "It seems that whatever the optimization routine followed, VQE predicts a result that is very close to the exact solution. <br>\n",
    "To be more precise, we must compare the distance between the VQE result and the theoretical value to a threshold known as <em>chemical accuracy</em>. This threshold is defined as the relative error in energy that would translate in an error in a chemical rate by an order of magnitude; hence its name \"chemical accuracy\", because a numerical simulation can be used to make actual chemical predictions if and only if the relative error in energy it outputs is below this threshold. At room temperature, chemical accuracy is $1.6 \\: 10^{-3} \\: \\text{hartree} = 1 \\: \\text{kcal} / \\text{mol}$. <br>\n",
    "Let's check numerically if chemical accuracy is reached here:\n",
    "</div>"
   ]
  },
  {
   "cell_type": "code",
   "execution_count": 85,
   "id": "ec242c41",
   "metadata": {},
   "outputs": [
    {
     "name": "stderr",
     "output_type": "stream",
     "text": [
      "C:\\ProgramData\\Anaconda3\\lib\\site-packages\\scipy\\optimize\\_hessian_update_strategy.py:182: UserWarning: delta_grad == 0.0. Check if the approximated function is linear. If the function is linear better results can be obtained by defining the Hessian as zero instead of using quasi-Newton approximations.\n",
      "  warn('delta_grad == 0.0. Check if the approximated '\n"
     ]
    },
    {
     "data": {
      "image/png": "[encoded data removed]",
      "text/plain": [
       "<Figure size 432x288 with 1 Axes>"
      ]
     },
     "metadata": {
      "needs_background": "light"
     },
     "output_type": "display_data"
    }
   ],
   "source": [
    "# We use all the possible optimization routines for the sake of comparison (it still runs in a decent time)\n",
    "\n",
    "Xplot=[]\n",
    "Yplot=[]\n",
    "\n",
    "for d in hamilt.keys():\n",
    "    M = make_matrix(hamilt[d])\n",
    "    E0 = np.min(np.linalg.eig(M)[0].real)\n",
    "    Xplot.append(d)\n",
    "    Yplot.append(E0)\n",
    "\n",
    "Xplot = np.array(Xplot)\n",
    "YEplot = np.array(Yplot)\n",
    "\n",
    "qpu = PyLinalg()\n",
    "methods = ['Nelder-Mead','Powell','CG','BFGS','L-BFGS-B','TNC','COBYLA','SLSQP','trust-constr']\n",
    "\n",
    "for method in methods:\n",
    "    plugin = ScipyMinimizePlugin(method=method)\n",
    "\n",
    "    smart_qpu = plugin | qpu\n",
    "\n",
    "    # run the variational computation\n",
    "\n",
    "    Xplot=[]\n",
    "    Yplot=[]\n",
    "\n",
    "    for d in hamilt.keys():\n",
    "        job = circ.to_job(observable=hamilt[d],nbshots=100)\n",
    "        result = smart_qpu.submit(job)\n",
    "        E0=result.value\n",
    "        #print(f\"Minimum VQE energy ={result.value}\")\n",
    "        Xplot.append(d)\n",
    "        Yplot.append(E0)\n",
    "\n",
    "    Xplot = np.array(Xplot)\n",
    "    Yplot = np.array(Yplot)\n",
    "    plt.plot(Xplot,np.abs(Yplot-YEplot),label=method)\n",
    "plt.plot(Xplot,np.array([0.0016]*len(Xplot)),label='chemical accuracy',color='r')\n",
    "plt.legend(loc='upper right')\n",
    "plt.xlabel('d ('+r'$\\AA$'+')')\n",
    "plt.ylabel('relative error in energy'+' (hartree)')\n",
    "plt.show()"
   ]
  },
  {
   "cell_type": "markdown",
   "id": "678b33f4",
   "metadata": {},
   "source": [
    "<div class=\"alert alert-block alert-success\">\n",
    "\n",
    "So yes, chemical accuracy is reached, and this for any of the available optimization routines.\n",
    "</div>"
   ]
  },
  {
   "cell_type": "markdown",
   "id": "60544a33",
   "metadata": {},
   "source": [
    "<div class=\"alert alert-block alert-info\">\n",
    "\n",
    "- **(*)** Can some values be lower than the exact ground-state energy? Why?\n",
    "    \n",
    "</div>"
   ]
  },
  {
   "cell_type": "markdown",
   "id": "e634c735",
   "metadata": {},
   "source": [
    "<div class=\"alert alert-block alert-success\">\n",
    "    \n",
    "Yes, some values can be lower than the ground state energy: this is due to how a Hamiltonian is measured, as previously explained. In fact, if the measurement of each Pauli component of the Hamiltonian gives its minimal possible value, we can end up with an energy that is lower that the ground state energy.<br>\n",
    "To illustrate this, let's take a concrete and purely mathematical example:\n",
    "$$H=X+Z=\\begin{bmatrix} 0 & 1 \\\\ 1 & 0 \\end{bmatrix}+\\begin{bmatrix} 1 & 0 \\\\ 0 & -1 \\end{bmatrix}=\\begin{bmatrix} 1 & 1 \\\\ 1 & -1 \\end{bmatrix}$$\n",
    "This Hamiltonian has ground state energy $-\\sqrt{2}$. Yet, measuring first $X$ and second $Z$ can perfectly give $-1$ for each measurement, these measurements being recombined into an energy of $(-1)+(-1)=-2<-\\sqrt{2}$. <br>\n",
    "Now this effect isn't really critical, as it only applies when we do a finite number of shots for the averaging process. In other words, we may for a few shots measure a Hamiltonian lower than the theoretical minimal eigenenergy, but on averaging over an \"infinity\" of shots it will always be above the theoretical minimum eigenenergy.\n",
    "</div>"
   ]
  },
  {
   "cell_type": "markdown",
   "id": "2253c2a8",
   "metadata": {},
   "source": [
    "<a id='noisy_qubits'></a>\n",
    "### 2.b) Noisy qubits\n",
    "\n",
    "We now replace the perfect QPU of the above subsection by a simulator that takes into account hardware noise, which we will call a \"noisy QPU\".\n",
    "\n",
    "A noisy QPU mimics the effect of quantum noise (decoherence). Here, we choose a very simple noise model called **depolarizing noise**.\n",
    "\n",
    "#### A crash course into noisy quantum states and noisy gates\n",
    "\n",
    "##### Noisy quantum states\n",
    "A \"noisy\" qubit cannot be described by a ket $|\\psi\\rangle$ because it is (by definition) entangled with its environment (only the ket $|\\Psi_\\mathrm{tot}\\rangle$ describing the qubit AND its environment is well defined). One can, instead of manipulating $|\\Psi_\\mathrm{tot}\\rangle$ (a very large object with too much information for our purposes!), manipulate a new object called the **\"density matrix\"**, often denoted as $\\rho$. It describes the fact that when a qubit gets entangled with its environment, one loses information on the qubit's state. It becomes a \"statistical mixture\" of several pure states: typically, $\\rho$ can be decomposed as $$\\rho = \\sum_i p_i |\\psi_i\\rangle \\langle \\psi_i |,$$ which you should interpret as the qubit is in state $|\\psi_i\\rangle$ with probability $p_i$. A perfect qubit is described by a density matrix $\\rho = |\\psi\\rangle\\langle \\psi|$ (its state is perfectly known; it is also known as a **pure state**, as opposed to a **mixed state**).\n",
    "\n",
    "\n",
    "<div class=\"alert alert-block alert-success\">\n",
    "    \n",
    "For more information about density matrices, read your notes from Lecture n°4 of the EA!\n",
    "</div>\n",
    "\n",
    "##### Noisy gates\n",
    "In this picture, a \"noisy gate\" is, mathematically speaking, a function $\\rho \\mapsto \\mathcal{E}(\\rho)$ that maps an input density matrix $\\rho$ to an output density matrix $\\mathcal{E}(\\rho)$. A perfect gate, described by a unitary matrix $U$ (see lecture 1), acts on $\\rho$ as $\\mathcal{E}(\\rho) =\\mathcal{U}(\\rho) = U \\rho U^\\dagger$. The most general expression for a noisy gate is:\n",
    "\n",
    "$$\\mathcal{E}(\\rho) = \\sum_{k=0}^{K-1} E_k \\rho E_k^\\dagger,$$\n",
    "\n",
    "with the operators $E_k$ called \"Kraus operators\". Usually, one can decompose a noisy gate as a perfect gate $\\mathcal{U}$ followed by (or composed with) a noise map $\\mathcal{E}$.\n",
    "\n",
    "\n",
    "\"Depolarizing noise\" is a simple noise map with simple Kraus operators. In the one-qubit case, $E_0 = \\sqrt{1 -p} I$, $E_i = \\sqrt{p/3} \\sigma_i$ with $\\sigma_1$ the $\\sigma^x$ Pauli matrix and so on.\n",
    "\n",
    "<div class=\"alert alert-block alert-info\">\n",
    "    \n",
    "- **(*)** If one starts from a pure state $\\rho=|\\psi\\rangle\\langle\\psi|$ and applies a depolarizing noise, what does the output density matrix look like? What happens in the limit when $p\\rightarrow 0$?\n",
    "\n",
    "</div>\n"
   ]
  },
  {
   "cell_type": "markdown",
   "id": "9bb2b5c2",
   "metadata": {},
   "source": [
    "<div class=\"alert alert-block alert-success\">\n",
    "\n",
    "Denote the pure state by $|\\psi\\rangle = \\alpha |0\\rangle + \\beta |1\\rangle$. <br>\n",
    "The pure state density matrix is: <br>\n",
    "$$\\rho = \\begin{bmatrix} |\\alpha|^2 & \\alpha \\beta^* \\\\ \\alpha^* \\beta & |\\beta|^2 \\end{bmatrix}$$\n",
    "Direct calculation then shows that:\n",
    "$$\\mathcal{E}(\\rho) = \\begin{bmatrix} \\left( 1 - \\frac{2}{3}p \\right)|\\alpha|^2 + \\frac{2}{3}p |\\beta|^2 & \\left( 1 - \\frac{4}{3}p \\right) \\alpha \\beta^* \\\\ \\left( 1 - \\frac{4}{3}p \\right) \\alpha^* \\beta & \\frac{2}{3}p|\\alpha|^2 + \\left( 1 - \\frac{2}{3}p \\right)|\\beta|^2 \\end{bmatrix}$$\n",
    "As expected, in the limit when $p \\rightarrow 0$, $\\mathcal{E}(\\rho) \\rightarrow \\rho$.\n",
    "</div>"
   ]
  },
  {
   "cell_type": "markdown",
   "id": "05abe19b",
   "metadata": {},
   "source": [
    "<div class=\"alert alert-block alert-success\">\n",
    "\n",
    "Alternative descriptions of decoherence exist (see the Lindblad equation you learned about in Lecture n°4). You will also learn more about decoherence in Lecture n°9.\n",
    "</div>\n",
    "\n",
    "#### Back to our noisy QPU\n",
    "In a very simplified picture, we choose to apply this noise after each gate (which we suppose to be perfect). This is achieved using another \"plugin\" that transforms a perfect QPU into a noisy \"depolarized\" QPU.\n",
    "\n",
    "Here, we have to choose a depolarizing \"probability\". This is the probability that a depolarization event occurs. It is usually larger for two-qubit gates as their duration is longer than one-qubit gates, thereby increasing the probability that a noisy event occurs. Thus we must choose two numbers, ``prob_1qb`` and ``prob_2qb``, for one and two-qubit gates, respectively."
   ]
  },
  {
   "cell_type": "code",
   "execution_count": 18,
   "id": "a73034cc",
   "metadata": {},
   "outputs": [
    {
     "data": {
      "image/png": "[encoded data removed]",
      "text/plain": [
       "<Figure size 432x288 with 1 Axes>"
      ]
     },
     "metadata": {
      "needs_background": "light"
     },
     "output_type": "display_data"
    }
   ],
   "source": [
    "from qat.qpus import PyLinalg\n",
    "from depolarizing_plugin_vec import DepolarizingPluginVec\n",
    "from qat.plugins import ScipyMinimizePlugin\n",
    "\n",
    "plugin = ScipyMinimizePlugin(method='Nelder-Mead')\n",
    "\n",
    "# we instantiate a plugin that turns a perfect qpu into a noisy qpu:\n",
    "depol = DepolarizingPluginVec(prob_1qb=0.005, prob_2qb=0.01)  # 0.005 corresponds to 0.5% probability\n",
    "qpu = PyLinalg()\n",
    "\n",
    "noisy_qpu = depol | qpu\n",
    "\n",
    "smart_noisy_qpu = plugin | noisy_qpu\n",
    "\n",
    "plugin = ScipyMinimizePlugin(method='Nelder-Mead')\n",
    "\n",
    "smart_qpu = plugin | qpu\n",
    "\n",
    "# run the variational computation\n",
    "\n",
    "Xplot=[]\n",
    "Yplot=[]\n",
    "\n",
    "for d in hamilt.keys():\n",
    "    job = circ.to_job(observable=hamilt[d])\n",
    "    result = smart_noisy_qpu.submit(job)\n",
    "    E0=result.value\n",
    "    #print(f\"Minimum VQE energy ={result.value}\")\n",
    "    Xplot.append(d)\n",
    "    Yplot.append(E0)\n",
    "\n",
    "# plot the results\n",
    "\n",
    "Xplot = np.array(Xplot)\n",
    "Yplot = np.array(Yplot)\n",
    "plt.plot(Xplot,Yplot,label=method)\n",
    "\n",
    "# plotting exact values\n",
    "\n",
    "Xplot=[]\n",
    "Yplot=[]\n",
    "\n",
    "for d in hamilt.keys():\n",
    "    M = make_matrix(hamilt[d])\n",
    "    E0 = np.min(np.linalg.eig(M)[0].real)\n",
    "    Xplot.append(d)\n",
    "    Yplot.append(E0)\n",
    "\n",
    "Xplot = np.array(Xplot)\n",
    "Yplot = np.array(Yplot)\n",
    "plt.plot(Xplot,Yplot,label='exact')\n",
    "plt.legend(loc='upper right')\n",
    "plt.xlabel('d ('+r'$\\AA$'+')')\n",
    "plt.ylabel(r'$E_0$'+' (hartree)')\n",
    "plt.show()"
   ]
  },
  {
   "cell_type": "code",
   "execution_count": 87,
   "id": "2c50f35b",
   "metadata": {},
   "outputs": [
    {
     "data": {
      "image/png": "[encoded data removed]",
      "text/plain": [
       "<Figure size 432x288 with 1 Axes>"
      ]
     },
     "metadata": {
      "needs_background": "light"
     },
     "output_type": "display_data"
    }
   ],
   "source": [
    "# looking at the relative error in energy :\n",
    "\n",
    "plugin = ScipyMinimizePlugin(method='Nelder-Mead')\n",
    "\n",
    "# we instantiate a plugin that turns a perfect qpu into a noisy qpu:\n",
    "depol = DepolarizingPluginVec(prob_1qb=0.005, prob_2qb=0.01)  # 0.005 corresponds to 0.5% probability\n",
    "qpu = PyLinalg()\n",
    "\n",
    "noisy_qpu = depol | qpu\n",
    "\n",
    "smart_noisy_qpu = plugin | noisy_qpu\n",
    "\n",
    "plugin = ScipyMinimizePlugin(method='Nelder-Mead')\n",
    "\n",
    "smart_qpu = plugin | qpu\n",
    "\n",
    "# run the variational computation\n",
    "\n",
    "Xplot=[]\n",
    "Yplot=[]\n",
    "\n",
    "for d in hamilt.keys():\n",
    "    job = circ.to_job(observable=hamilt[d])\n",
    "    result = smart_noisy_qpu.submit(job)\n",
    "    E0=result.value\n",
    "    #print(f\"Minimum VQE energy ={result.value}\")\n",
    "    Xplot.append(d)\n",
    "    Yplot.append(E0)\n",
    "\n",
    "Xplot = np.array(Xplot)\n",
    "Yplot = np.array(Yplot)\n",
    "\n",
    "#Exact values\n",
    "\n",
    "Xplot=[]\n",
    "YEplot=[]\n",
    "\n",
    "for d in hamilt.keys():\n",
    "    M = make_matrix(hamilt[d])\n",
    "    E0 = np.min(np.linalg.eig(M)[0].real)\n",
    "    Xplot.append(d)\n",
    "    YEplot.append(E0)\n",
    "\n",
    "YEplot = np.array(YEplot)\n",
    "\n",
    "# Plot\n",
    "plt.plot(Xplot,np.abs(Yplot-YEplot),label=method)\n",
    "plt.plot(Xplot,np.array([0.0016]*len(Xplot)),label='chemical accuracy',color='r')\n",
    "plt.legend(loc='upper right')\n",
    "plt.xlabel('d ('+r'$\\AA$'+')')\n",
    "plt.ylabel('relative error in energy'+' (hartree)')\n",
    "plt.show()"
   ]
  },
  {
   "cell_type": "markdown",
   "id": "7ed5bd4c",
   "metadata": {},
   "source": [
    "\n",
    "\n",
    "<div class=\"alert alert-block alert-info\">\n",
    "\n",
    "- **(*)** What do you observe? Is \"chemical accuracy\" (what is it?) reached?\n",
    "- **(*)** What noise levels would be needed to observe chemical accuracy?\n",
    "- **(*)** How does the error evolve with the depolarizing error (you can assume a fixed ratio between the one and two-qubit depolarizing probabilities)?\n",
    "    \n",
    "</div>"
   ]
  },
  {
   "cell_type": "markdown",
   "id": "558b758e",
   "metadata": {},
   "source": [
    "<div class=\"alert alert-block alert-success\">\n",
    "\n",
    "- **(*)** There is now a consequent relative error, with chemical accuracy far from being reached. (Definition of chemical accuracy: see above).\n",
    "- **(*)** For this question, we run many simulations with different noise levels and look at whether chemical accuracy is reached. We then plot the result in a 2D representation. The reader should be aware that doing so takes some computational time (~5mins).\n",
    "</div> "
   ]
  },
  {
   "cell_type": "code",
   "execution_count": 88,
   "id": "d1a2d55e",
   "metadata": {},
   "outputs": [
    {
     "data": {
      "image/png": "[encoded data removed]",
      "text/plain": [
       "<Figure size 432x288 with 1 Axes>"
      ]
     },
     "metadata": {
      "needs_background": "light"
     },
     "output_type": "display_data"
    }
   ],
   "source": [
    "# looking at the relative error in energy :\n",
    "\n",
    "plugin = ScipyMinimizePlugin(method='Nelder-Mead')\n",
    "\n",
    "probs_1qb = [0, 0.0001, 0.001, 0.002, 0.005]\n",
    "probs_2qb = [0, 0.0002, 0.002, 0.004, 0.01]\n",
    "\n",
    "#Set up lists that wil be used for the plot\n",
    "ca_reached_X = []\n",
    "ca_reached_Y = []\n",
    "ca_notreached_X = []\n",
    "ca_notreached_Y = []\n",
    "\n",
    "for prob_1qb in probs_1qb:\n",
    "    for prob_2qb in probs_2qb:\n",
    "\n",
    "        # we instantiate a plugin that turns a perfect qpu into a noisy qpu:\n",
    "        depol = DepolarizingPluginVec(prob_1qb=prob_1qb, prob_2qb=prob_2qb)  # 0.005 corresponds to 0.5% probability\n",
    "        qpu = PyLinalg()\n",
    "\n",
    "        noisy_qpu = depol | qpu\n",
    "\n",
    "        smart_noisy_qpu = plugin | noisy_qpu\n",
    "\n",
    "        plugin = ScipyMinimizePlugin(method='Nelder-Mead')\n",
    "\n",
    "        smart_qpu = plugin | qpu\n",
    "    \n",
    "        # run the variational computation\n",
    "\n",
    "        Xplot=[]\n",
    "        Yplot=[]\n",
    "\n",
    "        for d in hamilt.keys():\n",
    "            job = circ.to_job(observable=hamilt[d])\n",
    "            result = smart_noisy_qpu.submit(job)\n",
    "            E0=result.value\n",
    "            #print(f\"Minimum VQE energy ={result.value}\")\n",
    "            Xplot.append(d)\n",
    "            Yplot.append(E0)\n",
    "\n",
    "        Xplot = np.array(Xplot)\n",
    "        Yplot = np.array(Yplot)\n",
    "\n",
    "        #Exact values\n",
    "\n",
    "        Xplot=[]\n",
    "        YEplot=[]\n",
    "        for d in hamilt.keys():\n",
    "            M = make_matrix(hamilt[d])\n",
    "            E0 = np.min(np.linalg.eig(M)[0].real)\n",
    "            Xplot.append(d)\n",
    "            YEplot.append(E0)\n",
    "        YEplot = np.array(YEplot)\n",
    "\n",
    "        #Get the minimal error\n",
    "        min_err = np.min(np.abs(Yplot-YEplot))\n",
    "\n",
    "        #Compare it to chemical accuracy\n",
    "        if min_err < 0.0016:\n",
    "            #Chemical accuracy reached\n",
    "            ca_reached_X.append(prob_1qb)\n",
    "            ca_reached_Y.append(prob_2qb)\n",
    "        else:\n",
    "            #Chemical accuracy not reached\n",
    "            ca_notreached_X.append(prob_1qb)\n",
    "            ca_notreached_Y.append(prob_2qb)\n",
    "\n",
    "# Plot\n",
    "plt.scatter(ca_reached_X,ca_reached_Y,label='CA reached', color='green')\n",
    "plt.scatter(ca_notreached_X,ca_notreached_Y,label='CA not reached', color='red')\n",
    "plt.legend(loc='upper right')\n",
    "plt.xlabel('prob_1qb')\n",
    "plt.ylabel('prob_2qb')\n",
    "plt.show()"
   ]
  },
  {
   "cell_type": "markdown",
   "id": "25485873",
   "metadata": {},
   "source": [
    "<div class=\"alert alert-block alert-success\">\n",
    "\n",
    "- **(*)** For this question, we assume that prob_2qb = 2*prob_1qb. We get:\n",
    "</div>"
   ]
  },
  {
   "cell_type": "code",
   "execution_count": 35,
   "id": "f644bc00",
   "metadata": {},
   "outputs": [
    {
     "data": {
      "image/png": "[encoded data removed]",
      "text/plain": [
       "<Figure size 432x288 with 1 Axes>"
      ]
     },
     "metadata": {
      "needs_background": "light"
     },
     "output_type": "display_data"
    }
   ],
   "source": [
    "# looking at the relative error in energy :\n",
    "\n",
    "plugin = ScipyMinimizePlugin(method='CG') #We use CG instead of Nelder-Mead to avoid an artifact that prevents the output figure from scaling properly\n",
    "\n",
    "probs_1qb = [0, 0.0001, 0.001, 0.002, 0.005]\n",
    "\n",
    "#Exact values\n",
    "\n",
    "Xplot=[]\n",
    "YEplot=[]\n",
    "\n",
    "for d in hamilt.keys():\n",
    "    M = make_matrix(hamilt[d])\n",
    "    E0 = np.min(np.linalg.eig(M)[0].real)\n",
    "    Xplot.append(d)\n",
    "    YEplot.append(E0)\n",
    "\n",
    "YEplot = np.array(YEplot)\n",
    "\n",
    "for prob_1qb in probs_1qb:\n",
    "\n",
    "    # we instantiate a plugin that turns a perfect qpu into a noisy qpu:\n",
    "    depol = DepolarizingPluginVec(prob_1qb=prob_1qb, prob_2qb=2*prob_1qb)  # 0.005 corresponds to 0.5% probability\n",
    "    qpu = PyLinalg()\n",
    "\n",
    "    noisy_qpu = depol | qpu\n",
    "\n",
    "    smart_noisy_qpu = plugin | noisy_qpu\n",
    "\n",
    "\n",
    "    # run the variational computation\n",
    "    Yplot=[]\n",
    "\n",
    "    for d in hamilt.keys():\n",
    "        job = circ.to_job(observable=hamilt[d])\n",
    "        result = smart_noisy_qpu.submit(job)\n",
    "        E0=result.value\n",
    "        #print(f\"Minimum VQE energy ={result.value}\")\n",
    "        Yplot.append(E0)\n",
    "\n",
    "    Yplot = np.array(Yplot)\n",
    "\n",
    "    # Plot\n",
    "    plt.plot(Xplot,np.abs(Yplot-YEplot),label=prob_1qb)\n",
    "plt.plot(Xplot,np.array([0.0016]*len(Xplot)),label='chemical accuracy',color='r')\n",
    "plt.legend(loc='upper right')\n",
    "plt.xlabel('d ('+r'$\\AA$'+')')\n",
    "plt.ylabel('relative error in energy'+' (hartree)')\n",
    "plt.ylim([-0.0001, 0.03])\n",
    "plt.show()"
   ]
  },
  {
   "cell_type": "markdown",
   "id": "a38059f7",
   "metadata": {},
   "source": [
    "<div class=\"alert alert-block alert-success\">\n",
    "\n",
    "As expected, the relative error decreases when prob_1qb decreases, while maintaining the same shape. In agreement with the previous results, chemical accuracy is reached from prob_1qb=0.0001.\n",
    "</div>"
   ]
  },
  {
   "cell_type": "markdown",
   "id": "35851996",
   "metadata": {},
   "source": [
    "<div class=\"alert alert-block alert-info\">\n",
    "\n",
    "- **(#)** (BONUS) You can easily get access to the variational parameters $\\theta^*$ at convergence (by inspecting the contents of ``res[d].meta_data`` above), and execute the corresponding circuit $U(\\theta^*)$ on a true quantum computer by replacing the ``qpu`` or ``noisy_qpu`` instance above by an instance of a (e.g) IBM \"backend\". See https://myqlm.github.io/myqlm_specific/qiskit.html#module-qat.interop.qiskit.providers. When you perform this run (for this you need to obtain an IBM token by registering on their website), how accurate are the results you obtain?\n",
    "\n",
    "</div>"
   ]
  },
  {
   "cell_type": "markdown",
   "id": "ba695407",
   "metadata": {},
   "source": [
    "<div class=\"alert alert-block alert-success\">\n",
    "\n",
    "We start by computing a single ground state energy (i.e. the ground state energy at a given distance) to check how the requests to IBM QPU work:\n",
    "</div>"
   ]
  },
  {
   "cell_type": "code",
   "execution_count": 16,
   "id": "3af275bf",
   "metadata": {
    "scrolled": true
   },
   "outputs": [
    {
     "name": "stderr",
     "output_type": "stream",
     "text": [
      "ibmqfactory.load_account:WARNING:2022-02-28 07:31:14,911: Credentials are already in use. The existing account in the session will be replaced.\n"
     ]
    },
    {
     "name": "stdout",
     "output_type": "stream",
     "text": [
      "-0.8593920828\n"
     ]
    }
   ],
   "source": [
    "#Loading IBMQ account\n",
    "from qiskit import IBMQ\n",
    "IBMQ.load_account()\n",
    "\n",
    "#Getting the variational parameters at convergence\n",
    "import ast\n",
    "thetastar=ast.literal_eval(result.meta_data['parameters'])[0]\n",
    "\n",
    "#Defining U(theta*)\n",
    "progU = Program()\n",
    "qbits = progU.qalloc(2)\n",
    "progU.apply(X, qbits[1])\n",
    "progU.apply(RY(np.pi / 2), qbits[0])\n",
    "progU.apply(RX(np.pi / 2), qbits[1])\n",
    "progU.apply(CNOT, qbits)\n",
    "progU.apply(RZ(thetastar), qbits[1])\n",
    "progU.apply(CNOT, qbits)\n",
    "progU.apply(RY(np.pi / 2), qbits[0])\n",
    "progU.apply(RX(np.pi / 2), qbits[1])\n",
    "circU = progU.to_circ()\n",
    "\n",
    "#Getting result\n",
    "from qat.interop.qiskit import BackendToQPU\n",
    "ibm_qpu = BackendToQPU(ibmq_backend=\"ibmq_armonk\")\n",
    "jobU = circU.to_job(observable=hamilt[d])\n",
    "resultU = (splitter|ibm_qpu).submit(jobU)\n",
    "E0U=resultU.value\n",
    "\n",
    "print(E0U)"
   ]
  },
  {
   "cell_type": "markdown",
   "id": "5a9c7890",
   "metadata": {},
   "source": [
    "<div class=\"alert alert-block alert-success\">\n",
    "\n",
    "We will now generalize the previous approach by computing $\\theta^*$ for any $d$ using the VQE already implemented, nd then use these $\\theta^*$ to plot the energy as a function of $d$ and compare with the exact computation.\n",
    "</div>"
   ]
  },
  {
   "cell_type": "code",
   "execution_count": 34,
   "id": "0b78e907",
   "metadata": {},
   "outputs": [
    {
     "data": {
      "image/png": "[encoded data removed]",
      "text/plain": [
       "<Figure size 432x288 with 1 Axes>"
      ]
     },
     "metadata": {
      "needs_background": "light"
     },
     "output_type": "display_data"
    }
   ],
   "source": [
    "# Plotting exact vs IBM\n",
    "\n",
    "\n",
    "thetastars=dict() #For IBM computation\n",
    "\n",
    "#Exact values\n",
    "Xplot=[]\n",
    "Yplot=[]\n",
    "for d in hamilt.keys():\n",
    "    M = make_matrix(hamilt[d])\n",
    "    E0 = np.min(np.linalg.eig(M)[0].real)\n",
    "    Xplot.append(d)\n",
    "    Yplot.append(E0)\n",
    "Xplot = np.array(Xplot)\n",
    "Yplot = np.array(Yplot)\n",
    "plt.plot(Xplot,Yplot,color='orange',label='exact')\n",
    "\n",
    "#Variational computation with the noise model\n",
    "Xplot=[]\n",
    "Yplot=[]\n",
    "for d in hamilt.keys():\n",
    "    job = circ.to_job(observable=hamilt[d])\n",
    "    result = smart_noisy_qpu.submit(job)\n",
    "    E0=result.value\n",
    "    thetastars[d] = ast.literal_eval(result.meta_data['parameters'])[0]\n",
    "    Xplot.append(d)\n",
    "    Yplot.append(E0)\n",
    "Xplot = np.array(Xplot)\n",
    "Yplot = np.array(Yplot)\n",
    "#plt.plot(Xplot,Yplot,label='noise model')\n",
    "\n",
    "\n",
    "#Variational computation with IBM\n",
    "Xplot=[]\n",
    "Yplot=[]\n",
    "for d in hamilt.keys():\n",
    "    Xplot.append(d)\n",
    "    thetastar=thetastars[d]\n",
    "    #Defining U(theta*)\n",
    "    progU = Program()\n",
    "    qbits = progU.qalloc(2)\n",
    "    progU.apply(X, qbits[1])\n",
    "    progU.apply(RY(np.pi / 2), qbits[0])\n",
    "    progU.apply(RX(np.pi / 2), qbits[1])\n",
    "    progU.apply(CNOT, qbits)\n",
    "    progU.apply(RZ(thetastar), qbits[1])\n",
    "    progU.apply(CNOT, qbits)\n",
    "    progU.apply(RY(np.pi / 2), qbits[0])\n",
    "    progU.apply(RX(np.pi / 2), qbits[1])\n",
    "    circU = progU.to_circ()\n",
    "    #Getting result\n",
    "    from qat.interop.qiskit import BackendToQPU\n",
    "    ibm_qpu = BackendToQPU(ibmq_backend=\"ibmq_armonk\")\n",
    "    jobU = circU.to_job(observable=hamilt[d])\n",
    "    resultU = (splitter|ibm_qpu).submit(jobU)\n",
    "    E0U=resultU.value\n",
    "    Yplot.append(E0U)\n",
    "Xplot = np.array(Xplot)\n",
    "Yplot = np.array(Yplot)\n",
    "plt.plot(Xplot,Yplot,'--',label='IBM')\n",
    "\n",
    "#Show\n",
    "#plt.plot(Xplot,Yplot,label='exact')\n",
    "plt.legend(loc='upper right')\n",
    "plt.xlabel('d ('+r'$\\AA$'+')')\n",
    "plt.ylabel(r'$E_0$'+' (hartree)')\n",
    "plt.show()"
   ]
  },
  {
   "cell_type": "markdown",
   "id": "c0a73abc",
   "metadata": {},
   "source": [
    "<div class=\"alert alert-block alert-success\">\n",
    "\n",
    "The overlap between the two curves is amazing ! In particular, the IBM device does better than the simulated noisy qubits.\n",
    "</div>"
   ]
  },
  {
   "cell_type": "markdown",
   "id": "b0c2436f",
   "metadata": {},
   "source": [
    "### 2.c) (GROUP 1 ONLY) Deeper into noise models\n",
    "\n",
    "Take a look at the figure shown by O'Malley et al below. \n",
    "\n",
    "<div class=\"alert alert-block alert-info\">\n",
    "    \n",
    "- **(*)** Are their results similar to yours? Can you list the possible causes of discrepancy?\n",
    "\n",
    "</div>\n",
    "    \n",
    "<div align=\"center\"><img src=\"data/omalley_fig3.png\" width=\"50%\"></div>\n",
    "\n",
    "<div class=\"alert alert-block alert-info\">\n",
    "    \n",
    "- **(*)** Can you briefly describe the working principle of \"transmon qubits\" used in O'Malley et al's work?\n",
    "\n",
    "- **(*)** In the paper, what causes of errors are mentioned? What are the two characteristic decoherence times? What are their respective meaning? Are they related or not to the depolarizing noise model we used above?\n",
    "\n",
    "- **(*)** What is the duration of the quantum gates used in the circuits? If you assume the error probability to follow an exponential law $$p = 1 - e^{-t/T_1}$$ and $$p' = 1 - e^{- 2t /T_\\varphi}$$ with $T_\\varphi = (1/T_2 - 1/(2 T_1))^{-1}$, what is the error probability of a one-qubit gate? of a two-qubit gate?\n",
    "    \n",
    "</div>"
   ]
  },
  {
   "cell_type": "markdown",
   "id": "7e8f3f6c",
   "metadata": {},
   "source": [
    "\n",
    "<div class=\"alert alert-block alert-info\">\n",
    "\n",
    "- **(*)** Given these probabilities, adjust the depolarizing probabilities you took and rerun the computations. Are you closer to the experimental curves?\n",
    "\n",
    "</div>"
   ]
  },
  {
   "cell_type": "markdown",
   "id": "2f295e8a",
   "metadata": {},
   "source": [
    "### 2.d) (GROUP 2 ONLY) Zero-noise extrapolation\n",
    "\n",
    "In the previous subsections, we saw how noise could degrade VQE results. We can try to reduce (or \"mitigate\") the effects of noise with a trick introduced in this paper: http://arxiv.org/abs/1801.03897 (p4). The method is simple: given a noisy QPU with noise level \"$r$\" ($r > 0$ if the computer is not perfect), one can try to artificially increase the noise strength $r$ to get the VQE energy $E(r)$, and then extrapolate to the $r\\rightarrow 0$ limit. \n",
    "\n",
    "There are several tricks to artificially increase the noise level. The one proposed by Dumitrescu et al is to add $m$ pairs of CNOT gates after each CNOT gate of the variational circuit. In the perfect case, a pair of CNOT gates is an identity gate. In the noisy case, it approximately boils down to adding a noise of strength $2\\epsilon$ (if we suppose that one CNOT gate incurs a noise of strength $\\epsilon$). Thus, a CNOT gate in the initial circuit (strength $r=\\epsilon$) is replaced by $1+2m$ CNOT gates, corresponding to a noise strength $r=(1+2m)\\epsilon$. If we record the value of the VQE energy $E(m)$, the \"noiseless\" ($r=0$) extrapolation is $E(m=-1/2)$.\n",
    "\n",
    "The cell below implements this idea."
   ]
  },
  {
   "cell_type": "code",
   "execution_count": 92,
   "id": "4fa51d95",
   "metadata": {},
   "outputs": [],
   "source": [
    "#Defining the function E(m)\n",
    "\n",
    "from qat.lang.AQASM import Program, X, RY, RX, RZ, CNOT #We reimport AQASM because some names (X) where redifined by SymPy\n",
    "\n",
    "def gen_progE(m):\n",
    "    progE = Program()\n",
    "    theta = progE.new_var(float, \"\\\\theta\")\n",
    "    qbitsE = progE.qalloc(2)\n",
    "    progE.apply(X,qbitsE[1])\n",
    "    progE.apply(RY(np.pi/2.),qbitsE[0])\n",
    "    progE.apply(RX(np.pi/2.),qbitsE[1])\n",
    "    for _ in range(1+2*m):\n",
    "        progE.apply(CNOT,qbitsE)\n",
    "    progE.apply(RZ(theta),qbitsE[1])\n",
    "    for _ in range(1+2*m):\n",
    "        progE.apply(CNOT,qbitsE)\n",
    "    progE.apply(RY(np.pi/2.),qbitsE[0])\n",
    "    progE.apply(RX(np.pi/2.),qbitsE[1])\n",
    "    return(progE)\n",
    "\n",
    "def Emin(m,method='CG'):\n",
    "    circE=gen_progE(m).to_circ()\n",
    "    plugin = ScipyMinimizePlugin(method=method)\n",
    "    depol = DepolarizingPluginVec(prob_1qb=0.05, prob_2qb=2*prob_1qb)\n",
    "    smart_noisy_qpu = plugin | depol | qpu\n",
    "    # Run the variational computation\n",
    "    Y=[]\n",
    "    for d in hamilt.keys():\n",
    "        job = circE.to_job(observable=hamilt[d])\n",
    "        result = smart_noisy_qpu.submit(job)\n",
    "        E0=result.value\n",
    "        Y.append(E0)\n",
    "    Y = np.array(Y)\n",
    "    # Return minimal energy\n",
    "    return(np.min(Y))\n",
    "\n",
    "def E(m,d=0.7,method='CG'):\n",
    "    circE=gen_progE(m).to_circ()\n",
    "    plugin = ScipyMinimizePlugin(method=method)\n",
    "    depol = DepolarizingPluginVec(prob_1qb=0.05, prob_2qb=2*prob_1qb)\n",
    "    smart_noisy_qpu = plugin | depol | qpu\n",
    "    # Run the variational computation\n",
    "    job = circE.to_job(observable=hamilt[d])\n",
    "    result = smart_noisy_qpu.submit(job)\n",
    "    E0=result.value\n",
    "    return(E0)"
   ]
  },
  {
   "cell_type": "code",
   "execution_count": 93,
   "id": "f46cbb08",
   "metadata": {},
   "outputs": [
    {
     "data": {
      "text/plain": [
       "-0.7120867822897305"
      ]
     },
     "execution_count": 93,
     "metadata": {},
     "output_type": "execute_result"
    }
   ],
   "source": [
    "E(10)"
   ]
  },
  {
   "cell_type": "code",
   "execution_count": 94,
   "id": "55035e3c",
   "metadata": {},
   "outputs": [
    {
     "data": {
      "image/png": "[encoded data removed]",
      "text/plain": [
       "<Figure size 432x288 with 1 Axes>"
      ]
     },
     "metadata": {
      "needs_background": "light"
     },
     "output_type": "display_data"
    }
   ],
   "source": [
    "#Plotting E(m) for the first ten values of m\n",
    "R=list(range(10))\n",
    "noisedE = [E(m) for m in R]\n",
    "plt.scatter(np.array(R), np.array(noisedE))\n",
    "plt.ylabel(r'E(m,d=0.7 $\\AA$) (hartree)')\n",
    "plt.xlabel('m')\n",
    "plt.show()"
   ]
  },
  {
   "cell_type": "markdown",
   "id": "55658f64",
   "metadata": {},
   "source": [
    "We now need to extrapolate $E(m)$ to the $m=-1/2$ limit. \n",
    "\n",
    "<div class=\"alert alert-block alert-info\">\n",
    "\n",
    "- **(*)** What form of fit can you choose? \n",
    "- **(*)** Is the \"zero-noise extrapolation\" closer to the exact energy? If there is still a deviation, where does it come from?\n",
    "- **(#)** Can you think of other noise mitigation methods?\n",
    "\n",
    "</div>\n",
    "\n",
    "Here, given the shape of the curve, we choose a linear fit. The extrapolated energy is indeed better than the noisy one! It is not perfect because of the one-qubit noise."
   ]
  },
  {
   "cell_type": "markdown",
   "id": "4a7cd58f",
   "metadata": {},
   "source": [
    "<div class=\"alert alert-block alert-success\">\n",
    "\n",
    "- **(*)** Already answered by the subject.\n",
    "- **(*)** Idem.\n",
    "</div>"
   ]
  },
  {
   "cell_type": "code",
   "execution_count": 95,
   "id": "40535ec9",
   "metadata": {},
   "outputs": [
    {
     "data": {
      "image/png": "[encoded data removed]",
      "text/plain": [
       "<Figure size 432x288 with 1 Axes>"
      ]
     },
     "metadata": {
      "needs_background": "light"
     },
     "output_type": "display_data"
    }
   ],
   "source": [
    "from scipy.optimize import curve_fit\n",
    "\n",
    "def affine(x,a,b):\n",
    "    return(a*x+b)\n",
    "\n",
    "popt, pcov = curve_fit(affine, np.array(R), np.array(noisedE))\n",
    "\n",
    "plt.scatter(np.array(R), np.array(noisedE),label='data')\n",
    "plt.plot(np.array(R),np.array(affine(np.array(R), *popt)),color='r',label='fit')\n",
    "plt.ylabel('E(m,d=0.7) (hartree)')\n",
    "plt.xlabel('m')\n",
    "plt.legend(loc='upper left')\n",
    "plt.show()"
   ]
  },
  {
   "cell_type": "markdown",
   "id": "779ef6a1",
   "metadata": {},
   "source": [
    "<div class=\"alert alert-block alert-success\">\n",
    "\n",
    "We can go a bit further by looking at the energy at equilibrium (minimal energy) and the energy at infinite distance. Because the data points seem to make a curve around the linear fitting, it is natural to take the fitting one order further and see if it improves. This allows us to investigate in particular the dissociation energy error.\n",
    "</div>"
   ]
  },
  {
   "cell_type": "code",
   "execution_count": 103,
   "id": "fc683c62",
   "metadata": {},
   "outputs": [
    {
     "data": {
      "image/png": "[encoded data removed]",
      "text/plain": [
       "<Figure size 432x432 with 2 Axes>"
      ]
     },
     "metadata": {
      "needs_background": "light"
     },
     "output_type": "display_data"
    }
   ],
   "source": [
    "# perform variational computation with insertion of an increasing number of pairs of CNOTs on both sides\n",
    "\n",
    "from qat.qpus import PyLinalg\n",
    "from depolarizing_plugin_vec import DepolarizingPluginVec\n",
    "from qat.plugins import ScipyMinimizePlugin\n",
    "from qat.lang.AQASM import Program, X, RY, RX, RZ, CNOT\n",
    "\n",
    "plugin = ScipyMinimizePlugin(method='Nelder-Mead')\n",
    "\n",
    "# we instantiate a plugin that turns a perfect qpu into a noisy qpu:\n",
    "depol = DepolarizingPluginVec(prob_1qb=0.005, prob_2qb=0.01)  # 0.005 corresponds to 0.5% probability\n",
    "qpu = PyLinalg()\n",
    "\n",
    "noisy_qpu = depol | qpu\n",
    "smart_noisy_qpu = plugin | noisy_qpu\n",
    "\n",
    "def circuit(m):\n",
    "    prog = Program()\n",
    "    # we declare a variable 'theta'\n",
    "    theta = prog.new_var(float, \"\\\\theta\")\n",
    "    # we allocate 2 qubits\n",
    "    qbits = prog.qalloc(2)\n",
    "    prog.apply(X, qbits[0])\n",
    "    prog.apply(RX(np.pi/2),qbits[0])\n",
    "    prog.apply(RY(np.pi/2),qbits[1])\n",
    "    prog.apply(CNOT,qbits[1],qbits[0])\n",
    "    \n",
    "    for _ in range(m): \n",
    "        prog.apply(CNOT,qbits[0],qbits[1])\n",
    "        prog.apply(CNOT,qbits[0],qbits[1])\n",
    "    \n",
    "    prog.apply(RZ(theta),qbits[0])\n",
    "    prog.apply(CNOT,qbits[1],qbits[0])\n",
    "    \n",
    "    for _ in range(m): \n",
    "        prog.apply(CNOT,qbits[0],qbits[1])\n",
    "        prog.apply(CNOT,qbits[0],qbits[1])\n",
    "    \n",
    "    prog.apply(RX(np.pi/2),qbits[0])\n",
    "    prog.apply(RY(np.pi/2),qbits[1])\n",
    "    circ = prog.to_circ()\n",
    "    return circ\n",
    "\n",
    "\n",
    "m_lst = list(range(7))\n",
    "energ_equil = []\n",
    "energ_infinite = []\n",
    "\n",
    "for m in m_lst:\n",
    "    circ = circuit(m)\n",
    "    energ_noise = []\n",
    "    #%qatdisplay --svg circ\n",
    "    for d in hamilt.keys():\n",
    "        h = hamilt[d]  # the hamiltonian at distance d\n",
    "        job = circ.to_job(observable = h, nbshots = 0)\n",
    "        result = smart_noisy_qpu.submit(job)\n",
    "        energ_noise.append(result.value)\n",
    "    energ_equil.append(min(energ_noise)) # minimum value of energy curve (corresponding to d = 0.75 A, for each m)\n",
    "    energ_infinite.append(energ_noise[-1]) # energy at infinite distance\n",
    "\n",
    "    # plot calculated results \n",
    "f,ax = plt.subplots(2,1,figsize = (6,6))\n",
    "\n",
    "ax[0].set_title('Equilibrium Energy vs the Number of Noisy Gates')\n",
    "ax[0].scatter(m_lst, energ_equil, marker = 'x')\n",
    "ax[0].set_xlabel('m')\n",
    "ax[0].set_ylabel('E (Hartree)')\n",
    "\n",
    "# Rk: It seems that linear fitting is not good enough.\n",
    "\n",
    "\n",
    "ax[1].set_title(' Energy at Infinite Distance vs the Number of Noisy Gates')\n",
    "ax[1].scatter(m_lst, energ_infinite, marker = 'x')\n",
    "ax[1].set_xlabel('m')\n",
    "ax[1].set_ylabel('E (Hartree)')\n",
    "\n",
    "f.tight_layout()"
   ]
  },
  {
   "cell_type": "code",
   "execution_count": 104,
   "id": "7a50ac8a",
   "metadata": {
    "scrolled": false
   },
   "outputs": [
    {
     "name": "stdout",
     "output_type": "stream",
     "text": [
      "E(m = -0.5) (Hartree): -1.1174424754386647\n",
      "One gate noise error for linear fitting (Hartree): 0.028156648684978913\n",
      "E(m = -0.5) (Hartree): -1.1264694705929266\n",
      "One gate noise error for parabola fitting (Hartree): 0.01912965353071705\n"
     ]
    },
    {
     "data": {
      "text/plain": [
       "Text(0.5, 1.0, 'Equilibrium Energy')"
      ]
     },
     "execution_count": 104,
     "metadata": {},
     "output_type": "execute_result"
    },
    {
     "data": {
      "image/png": "[encoded data removed]",
      "text/plain": [
       "<Figure size 432x288 with 2 Axes>"
      ]
     },
     "metadata": {
      "needs_background": "light"
     },
     "output_type": "display_data"
    }
   ],
   "source": [
    "### FITTING FOR EQUILIBRIUM ENERGY\n",
    "\n",
    "from scipy.optimize import curve_fit\n",
    "# exact equilibrium energy\n",
    "E_equil_exact = -1.1455991241236436\n",
    "E_infi_exact = -0.9429725037828016\n",
    "\n",
    "# fit curve E(m) to extrapolate to zero-noise limit\n",
    "def linear(x,a,b):\n",
    "    return a*x+b\n",
    "\n",
    "def para(x,a,b,c):\n",
    "    return a*x**2+b*x+c\n",
    "\n",
    "\n",
    "#linear fitting \n",
    "popt, pcov = curve_fit(linear, m_lst, energ_equil)\n",
    "\n",
    "#print(popt)\n",
    "#print(pcov)\n",
    "plt.subplot(2,1,1)\n",
    "plt.scatter(m_lst, energ_equil, marker = 'x', c = 'green')\n",
    "plt.xlabel('m')\n",
    "plt.xlim(-0.5,7)\n",
    "plt.ylabel('E (Hartree)')\n",
    "m = np.linspace(-0.5,7,100)\n",
    "E = [linear(i, popt[0], popt[1]) for i in m]\n",
    "plt.plot(m, E, c = 'red',label = 'linear fitting')\n",
    "plt.legend()\n",
    "E_equil_lin = linear(-0.5, popt[0], popt[1])\n",
    "print('E(m = -0.5) (Hartree):', E_equil_lin)\n",
    "error_one_gate = E_equil_lin - E_equil_exact\n",
    "print('One gate noise error for linear fitting (Hartree):', error_one_gate)\n",
    "plt.tight_layout()\n",
    "plt.title('Equilibrium Energy')\n",
    "\n",
    "\n",
    "# parabola fitting\n",
    "popt, pcov = curve_fit(para, m_lst, energ_equil)\n",
    "\n",
    "#print(popt)\n",
    "#print(pcov)\n",
    "plt.subplot(2,1,2)\n",
    "plt.scatter(m_lst, energ_equil, marker = 'x', c = 'green')\n",
    "plt.xlabel('m')\n",
    "plt.xlim(-0.5,7)\n",
    "plt.ylabel('E (Hartree)')\n",
    "m = np.linspace(-0.5,7,100)\n",
    "E = [para(i, popt[0], popt[1], popt[2]) for i in m]\n",
    "plt.plot(m, E, c = 'red',label = 'parabola fitting')\n",
    "plt.legend()\n",
    "E_equil_para = para(-0.5, popt[0], popt[1], popt[2])\n",
    "print('E(m = -0.5) (Hartree):', E_equil_para)\n",
    "error_one_gate = E_equil_para - E_equil_exact\n",
    "print('One gate noise error for parabola fitting (Hartree):', error_one_gate)\n",
    "\n",
    "plt.tight_layout()\n",
    "plt.title('Equilibrium Energy')"
   ]
  },
  {
   "cell_type": "code",
   "execution_count": 105,
   "id": "a6a7f525",
   "metadata": {},
   "outputs": [
    {
     "name": "stdout",
     "output_type": "stream",
     "text": [
      "E(m = -0.5) (Hartree): -0.932201121571974\n",
      "One gate noise error for linear fitting (Hartree): 0.01077138221082763\n",
      "E(m = -0.5) (Hartree): -0.9340834548578844\n",
      "One gate noise error for parabola fitting (Hartree): 0.008889048924917264\n"
     ]
    },
    {
     "data": {
      "text/plain": [
       "Text(0.5, 1.0, 'Energy at Infinite Distance')"
      ]
     },
     "execution_count": 105,
     "metadata": {},
     "output_type": "execute_result"
    },
    {
     "data": {
      "image/png": "[encoded data removed]",
      "text/plain": [
       "<Figure size 432x288 with 2 Axes>"
      ]
     },
     "metadata": {
      "needs_background": "light"
     },
     "output_type": "display_data"
    }
   ],
   "source": [
    "### FITTING FOR ENERGY AT INFINITE DISTANCE\n",
    "\n",
    "popt, pcov = curve_fit(linear, m_lst, energ_infinite)\n",
    "plt.subplot(2,1,1)\n",
    "plt.scatter(m_lst, energ_infinite, marker = 'x', c = 'green')\n",
    "plt.xlabel('m')\n",
    "plt.ylabel('E (hartree)')\n",
    "m = np.linspace(-0.5,7,100)\n",
    "E = [linear(i, popt[0], popt[1]) for i in m]\n",
    "plt.plot(m, E, c = 'red',label = 'linear fitting')\n",
    "plt.legend()\n",
    "E_infinite_lin = linear(-0.5, popt[0], popt[1])\n",
    "print('E(m = -0.5) (Hartree):', E_infinite_lin)\n",
    "error_one_gate = E_infinite_lin - E_infi_exact\n",
    "\n",
    "print('One gate noise error for linear fitting (Hartree):', error_one_gate)\n",
    "plt.tight_layout()\n",
    "plt.title('Energy at Infinite Distance')\n",
    "\n",
    "popt, pcov = curve_fit(para, m_lst, energ_infinite)\n",
    "#print(popt)\n",
    "#print(pcov)\n",
    "plt.subplot(2,1,2)\n",
    "plt.scatter(m_lst, energ_infinite, marker = 'x', c = 'green')\n",
    "plt.xlabel('m')\n",
    "plt.ylabel('E (hartree)')\n",
    "m = np.linspace(-0.5,7,100)\n",
    "E = [para(i, popt[0], popt[1], popt[2]) for i in m]\n",
    "plt.plot(m, E, c = 'red',label = 'parabola fitting')\n",
    "plt.legend()\n",
    "E_infinite_para = para(-0.5, popt[0], popt[1], popt[2])\n",
    "print('E(m = -0.5) (Hartree):', E_infinite_para)\n",
    "error_one_gate = E_infinite_para - E_infi_exact\n",
    "print('One gate noise error for parabola fitting (Hartree):', error_one_gate)\n",
    "plt.tight_layout()\n",
    "plt.title('Energy at Infinite Distance')"
   ]
  },
  {
   "cell_type": "code",
   "execution_count": 106,
   "id": "94433889",
   "metadata": {},
   "outputs": [
    {
     "name": "stdout",
     "output_type": "stream",
     "text": [
      "Dissociation energy error for linear fitting (Hartree): 0.017385266474151284\n",
      "Dissociation energy error for linear fitting (Hartree): 0.010240604605799786\n",
      "The error comes from one-qubit noise.\n"
     ]
    }
   ],
   "source": [
    "### DISSOCIATION ERROR\n",
    "\n",
    "E_dissociation_extra_para = E_infinite_para - E_equil_para\n",
    "E_dissociation_extra_lin = E_infinite_lin - E_equil_lin\n",
    "E_dissociation = 0.202626620340842 # calculated from diagnalizing the exact Hamiltonian.\n",
    "print('Dissociation energy error for linear fitting (Hartree):', np.abs(E_dissociation_extra_lin - E_dissociation))\n",
    "print('Dissociation energy error for linear fitting (Hartree):', np.abs(E_dissociation_extra_para - E_dissociation))\n",
    "print('The error comes from one-qubit noise.')"
   ]
  },
  {
   "cell_type": "markdown",
   "id": "f629f5fa",
   "metadata": {},
   "source": [
    "<div class=\"alert alert-block alert-danger\">\n",
    "\n",
    "- **(#)**\n",
    "</div>"
   ]
  },
  {
   "cell_type": "markdown",
   "id": "0d20e932",
   "metadata": {},
   "source": [
    "<a id='sec:qpe'></a>\n",
    "## 3. Standard Quantum Phase Estimation (GROUP 3)\n",
    "\n",
    "In this section, we find an approximate ground-state energy with another method, the Quantum Phase Estimation (QPE) algorithm. We first focus on the \"standard\" version of this algorithm. In the next section (for group 2 only), we will turn to the variant used in the O'Malley et al paper, which is called \"Iterative Quantum Phase Estimation\".\n",
    "\n",
    "<a id='qpe'></a>\n",
    "#### Basic description of the QPE algorithm (see also: Lecture n°6)\n",
    "\n",
    "A standard phase estimation algorithm consists in three main steps:\n",
    "- Preparing the $m$-bit \"phase\" register in state $|+\\rangle^m$ with Hadamard gates ($|+\\rangle = (|0\\rangle + |1\\rangle)/\\sqrt{2}$) and the \"data\" register in a state $|\\psi\\rangle$ that has a large enough overlap with the sought-after ground state $|\\Psi\\rangle$;\n",
    "- Applying controlled-$U^{2^j}$ gates to both registers (with $j=0\\dots m-1$), with $U$ the unitary whose phase $\\varphi$ we want to find: $$U |\\Psi\\rangle = e^{2i\\pi \\varphi} |\\Psi\\rangle;$$\n",
    "- Applying the inverse Quantum Fourier Tranform to the phase register.\n",
    "Once this circuit is executed, one measures the qubits of the phase register (we call $\\varphi_i\\in\\lbrace 0,1\\rbrace$ the measurement result) to obtain a $m$-bit estimate $\\hat{\\varphi}$ of $\\varphi$: $$\\hat\\varphi = \\sum_{i=0}^{m-1} \\frac{1}{2^{1+i}} \\varphi_i.$$\n",
    "\n",
    "In our case, $U$ assumes a very particular form: $U = \\exp(-i H t_0)$, with $H$ the Hamiltonian whose ground state energy we want to find. Thus, $U |\\Psi\\rangle = e^{-i E t_0}|\\Psi\\rangle $ and therefore we can identify $2\\pi \\varphi = -E t_0$ so that we can compute an estimate $\\hat{E}$ as $\\hat{E} = -2\\pi\\hat{\\varphi}/t_0$.\n",
    "\n",
    "#### Making sure that the phase is within $]0, 1[$\n",
    "\n",
    "Let us note that $\\varphi$ can be known only up to a integer: for any $n\\in \\mathbb{Z}$, $\\varphi' = \\varphi + n$ is also an admissible eigenphase. This can cause a problem for the determination of the energy since it can be determined only up to $2\\pi n/t_0$ as a consequence of this remark.\n",
    "\n",
    "To avoid this problem, we are going to make sure that $\\varphi$ corresponding to the ground-state energy $E$ satisfies $0<\\varphi<1$. To this aim, we use the fact that the Hamiltonian is decomposed as $H = \\lambda_0 + \\sum_{i=1}^{M} \\lambda_i P_i$ and that $\\mathrm{Tr} P_i = 0$ $\\forall i$. We apply QPE to $\\tilde{H} = H - \\lambda_0$. Since $\\mathrm{Tr} \\tilde H = 0$, it means that its ground state energy $E$ is negative.\n",
    "\n",
    "\n",
    "<div class=\"alert alert-block alert-info\">\n",
    "\n",
    "- **(*)** Why does the fact that $\\mathrm{Tr} \\tilde{H} = 0$ imply that its ground-state energy is $\\leq 0$?\n",
    "\n",
    "</div> \n",
    "   \n",
    "Then, if we pick $t_0$ such that $0 < t_0 < 2\\pi/(-E)$, we will have $\\varphi = -E t_0/(2\\pi) \\in ]0, 1[$."
   ]
  },
  {
   "cell_type": "markdown",
   "id": "ec6d73dd",
   "metadata": {},
   "source": [
    "<a id='trotterization'></a>\n",
    "### 3.a) Circuit implementation of the controlled unitaries: Trotterization\n",
    "\n",
    "Let us turn to the implementation of $U^{2^j} = \\exp(-i 2^j H t_0) = \\exp(-i\\alpha H)$ as a quantum circuit. It is need for the second step of the QPE algorithm described above. $H$ is represented as a weighted sum of products of Pauli operators:\n",
    "$$H = \\sum_{i=1}^{M} \\lambda_i P_i$$\n",
    "\n",
    "It is quite easy to express the exponential of a product of Pauli operators $\\exp(i\\lambda P)$ as a quantum circuit. Before we can do this, we need  to expand the exponential of a sum as a product of exponentials. Since the terms of the sum do not commute, we cannot straightforwardly do this expansion. Instead, we use so-called \"Trotter\" identities to perform this expansion.\n",
    "\n",
    "The first-order Trotter identity reads\n",
    "\n",
    "$$\\exp(\\delta \\sum_{i=1}^M A_i) = \\prod_{i=1}^M \\exp(\\delta A_i) + O(\\delta^2)$$\n",
    "\n",
    "It becomes exact in the $\\delta\\rightarrow 0$ limit. The second-order Trotter identity reads\n",
    "\n",
    "$$\\exp(\\delta \\sum_{i=1}^M A_i) = \\prod_{i=1}^M \\exp(\\delta A_i/2) \\prod_{i=M}^{1} \\exp(\\delta A_i/2) + O(\\delta^3)$$\n",
    "\n",
    "To use either identity, we first decompose the Hamiltonian in the following way:\n",
    "\n",
    "$$ \\exp(-i \\alpha H) = \\prod_{k=1}^{N} \\exp(-i \\alpha /N H) $$\n",
    "\n",
    "and then apply the Trotter identities to $\\exp(-i \\alpha /N H)$ with $\\delta = \\alpha / N$. For instance, if we use the first-order expansion, we obtain: \n",
    "\n",
    "$$ \\exp(-i \\alpha H) \\approx \\prod_{k=1}^{N} \\prod_{i=1}^M \\exp(-i\\alpha \\lambda_i / N P_i), $$\n",
    "\n",
    "with a total Trotter error $O(\\alpha^2 / N)$ (there are $N$ Trotter slices, each of which has a $O(\\alpha^2/ N^2)$ error).\n",
    "\n",
    "The function that builds the corresponding quantum routine is provided under the name ``make_controlled_exp_hamiltonian``."
   ]
  },
  {
   "cell_type": "code",
   "execution_count": null,
   "id": "0fd8e2c5",
   "metadata": {},
   "outputs": [],
   "source": [
    "from qpe_utils import make_controlled_exp_hamiltonian\n",
    "\n",
    "## uncomment the following line to see the documentation of the function.\n",
    "# make_controlled_exp_hamiltonian?"
   ]
  },
  {
   "cell_type": "markdown",
   "id": "763687c2",
   "metadata": {},
   "source": [
    "\n",
    "<div class=\"alert alert-block alert-info\">\n",
    "\n",
    "- **(*)** Can you explain how the ``make_controlled_exp_hamiltonian`` function works based on the description of the Trotterization procedure above?\n",
    "- **(*)** If a Hamiltonian contains $M$ noncommuting terms, how many $\\exp(-i\\alpha \\lambda_i / N P_i)$ subcircuits will the $U$ circuit contain?\n",
    "- **(*)** How to implement a single $\\exp(-i\\alpha P_i)$ term? Can you explain how the corresponding routine, ``construct_Rk_routine`` (in the ``qpe_utils`` module), works?\n",
    "    \n",
    "</div>"
   ]
  },
  {
   "cell_type": "markdown",
   "id": "c95e5e0a",
   "metadata": {},
   "source": [
    "### 3.b) Quantum phase estimation routine\n",
    "\n",
    "We now build the quantum routine corresponding to the QPE. We use the already implemented function ``make_controlled_exp_hamiltonian``."
   ]
  },
  {
   "cell_type": "code",
   "execution_count": null,
   "id": "33eab08a",
   "metadata": {},
   "outputs": [],
   "source": [
    "from qat.lang.AQASM.qftarith import IQFT\n",
    "from qat.lang.AQASM import H, QRoutine, RX, Program\n",
    "from qat.lang.AQASM import CNOT, RZ\n",
    "from qat.lang.AQASM import QInt\n",
    "\n",
    "\n",
    "def build_qpe_routine_for_hamiltonian(hamiltonian, n_phase_bits, t0=1., n_trotter=1, order=1):\n",
    "    \"\"\"Construct the quantum phase estimation routine corresponding to a given Hamiltonian\n",
    "    \n",
    "    \n",
    "    Args:\n",
    "        hamiltonian (Observable): a Hamiltonian\n",
    "        n_phase_bits (int): the number of phase bits\n",
    "        t0 (float): the evolution time\n",
    "        n_trotter (int): the number of Trotter steps\n",
    "        order (int): Trotterization order\n",
    "        \n",
    "    Returns:\n",
    "        QRoutine: a quantum routine for phase estimation with unitary U = exp(-i H t0)\n",
    "    \"\"\"\n",
    "    routine = QRoutine()\n",
    "    phase_reg = routine.new_wires(n_phase_bits)\n",
    "    data_reg = routine.new_wires(hamiltonian.nbqbits)\n",
    "    \n",
    "    # Hadamard wall\n",
    "    # ...\n",
    "    \n",
    "    # controlled unitaries\n",
    "    # ...\n",
    "        \n",
    "    # now apply inverse QFT\n",
    "    # ...\n",
    "    \n",
    "    return routine"
   ]
  },
  {
   "cell_type": "markdown",
   "id": "d272805e",
   "metadata": {},
   "source": [
    "\n",
    "<div class=\"alert alert-block alert-info\">\n",
    "    \n",
    "- **(*)** Using ``%qatdisplay``, plot the quantum routine to check that it has the necessary building blocks.\n",
    "    \n",
    "</div>"
   ]
  },
  {
   "cell_type": "code",
   "execution_count": null,
   "id": "7d80cc41",
   "metadata": {},
   "outputs": [],
   "source": [
    "# an example:\n",
    "# qpe_routine = ... \n",
    "\n",
    "%qatdisplay qpe_routine"
   ]
  },
  {
   "cell_type": "markdown",
   "id": "46103850",
   "metadata": {},
   "source": [
    "### 3.c) Executing the QPE\n",
    "\n",
    "Now that we have the core QPE routine, we write a high-level function that builds the circuit, submits it to a QPU and then post-processes the output. It returns the probabilities of getting each possible output (there are $2^m$ possible outputs).\n",
    "\n",
    "\n",
    "Instead of using gates to prepare the ground state, we can, to make our life simpler, apply instead a ``StatePreparation`` routine that exactly prepares a given quantum state ``psi_init`` with the syntax ``prog.apply(StatePreparation(psi_init), phase_reg, data_reg)``."
   ]
  },
  {
   "cell_type": "code",
   "execution_count": null,
   "id": "f4663e8a",
   "metadata": {},
   "outputs": [],
   "source": [
    "from qat.lang.AQASM import AbstractGate\n",
    "StatePreparation = AbstractGate(\"STATE_PREPARATION\", [np.ndarray])\n",
    "\n",
    "\n",
    "def perform_qpe(qpu, hamiltonian, psi0, n_phase_bits, n_trotter, nbshots=0, t0=1.0, order=1, verbose=False):\n",
    "    \"\"\"\n",
    "    Args:\n",
    "        qpu (QPU): a QPU\n",
    "        hamiltonian (Observable): a Hamiltonian\n",
    "        psi0 (np.array): an eigenvector of H\n",
    "        n_phase_bits (int): number of bits for the phase\n",
    "        n_trotter (int): number of trotter slices\n",
    "        nbshots (int, optional): number of shots.\n",
    "            Defaults to 0 (corresponding to an infinite number of shots)\n",
    "        t0 (float, optional): time in U = exp(- i H t0). Defaults to 1.\n",
    "        order (int, optional): Trotterization order. Defaults to 1.\n",
    "        verbose (bool, optional): for verbose output. Defaults to False.\n",
    "        \n",
    "    Returns:\n",
    "        np.array: the vector of probabilities (frequencies) of obtaining each output (from 0 to 2^{m-1})\n",
    "    \"\"\"\n",
    "    # we prepare the initial state |0...0>|psi0> of the register\n",
    "    phase_reg_in = np.zeros((2**n_phase_bits,))\n",
    "    phase_reg_in[0] = 1.0 # |0>^n_phase_bits\n",
    "    psi_init = np.kron(phase_reg_in, psi0)\n",
    "    \n",
    "    # we initialize the program\n",
    "    prog = Program()\n",
    "    phase_reg = prog.qalloc(n_phase_bits, class_type=QInt, reverse_bit_order=False)\n",
    "    data_reg = prog.qalloc(hamiltonian.nbqbits)\n",
    "\n",
    "    # we use a StatePreparation gate to prepare psi_init\n",
    "    # this is somewhat of a trick: this assumes we can prepare exactly the ground state\n",
    "    # if we don't want to cheat we can replace the StatePreparation routine\n",
    "    # by a routine (gates) that prepare an approximate ground state\n",
    "    prog.apply(StatePreparation(psi_init), phase_reg, data_reg)\n",
    "\n",
    "    # we call the main QPE routine\n",
    "    pea_routine = build_qpe_routine_for_hamiltonian(hamiltonian, n_phase_bits, t0=t0,\n",
    "                                                    n_trotter=n_trotter, order=order)\n",
    "    prog.apply(pea_routine, phase_reg, data_reg)\n",
    "\n",
    "    # we generate the corresponding circuit and execute it\n",
    "    # ...\n",
    "\n",
    "    # we store the output probabilities in a vector\n",
    "    probs = np.zeros(2**n_phase_bits)\n",
    "    # ...\n",
    "\n",
    "    return probs"
   ]
  },
  {
   "cell_type": "markdown",
   "id": "4618d059",
   "metadata": {},
   "source": [
    "### 3.d) Study of the influence of the parameters\n",
    "\n",
    "Before we execute the QPE for the Hamiltonians corresponding to the various distances, we study the influence of the various parameters on the accuracy for a fixed distance (here $d = 0.2 A$).\n",
    "\n",
    "<div class=\"alert alert-block alert-info\">\n",
    "\n",
    "- **(*)** Plot the probability distribution of the ouputs of the QPE for various numbers of Trotter steps and phase qubits. What do you observe?\n",
    "    \n",
    "</div>"
   ]
  },
  {
   "cell_type": "code",
   "execution_count": null,
   "id": "988f9ec5",
   "metadata": {},
   "outputs": [],
   "source": [
    "h = hamilt[0.2]\n",
    "t0 = qpe_t0[0.2]\n",
    "# ...\n"
   ]
  },
  {
   "cell_type": "markdown",
   "id": "8aa70fef",
   "metadata": {},
   "source": [
    "<div class=\"alert alert-block alert-info\">\n",
    "    \n",
    "- **(*)** What is the number of Trotter steps used by O'Malley et al?\n",
    "- **(*)** What is the Trotterization order they choose (first-order or second-order)?\n",
    "- **(*)** Does the order of the terms matter when trotterizing the exponential of a Hamiltonian?\n",
    "- **(*)** To keep a fixed Trotter error upon increasing the final time $t_0$, how must one change the number of Trotter steps with respect to $t_0$?\n",
    "    \n",
    "</div>"
   ]
  },
  {
   "cell_type": "markdown",
   "id": "3a5888aa",
   "metadata": {},
   "source": [
    "### 3.e) QPE energy as a function of distance (perfect qubits)\n",
    "\n",
    "Below, we write a short function that launches the QPE procedure for several distances and stores the result in a list.\n",
    "NB: we are assuming we can prepare a perfect ground state!"
   ]
  },
  {
   "cell_type": "code",
   "execution_count": null,
   "id": "e65ed997",
   "metadata": {},
   "outputs": [],
   "source": [
    "def launch_qpe(qpu, n_trotter, n_phase_bits):\n",
    "    \"\"\"launch a QPE computation for a given QPU\"\"\"\n",
    "    E_QPEs = []\n",
    "    for ind, d in enumerate(hamilt.keys()):\n",
    "        h = hamilt[d]\n",
    "        \n",
    "        # ... call perform_qpe etc.\n",
    "        \n",
    "    return E_QPEs"
   ]
  },
  {
   "cell_type": "code",
   "execution_count": null,
   "id": "9a090507",
   "metadata": {},
   "outputs": [],
   "source": [
    "from qat.qpus import PyLinalg\n",
    "# n_trotter = \n",
    "# n_phase_bits = \n",
    "qpu = PyLinalg()\n",
    "# call launch_qpe"
   ]
  },
  {
   "cell_type": "code",
   "execution_count": null,
   "id": "87b11837",
   "metadata": {},
   "outputs": [],
   "source": [
    "# plot the results"
   ]
  },
  {
   "cell_type": "markdown",
   "id": "f50d6bd1",
   "metadata": {},
   "source": [
    "\n",
    "<div class=\"alert alert-block alert-info\">\n",
    "    \n",
    "- **(*)** What do you observe? How does it compare with the results (see Figure in section 2.b) above) in the paper?\n",
    "- **(*)** What happens when you increase the number of Trotter steps?\n",
    "    \n",
    "</div>"
   ]
  },
  {
   "cell_type": "markdown",
   "id": "3000f45c",
   "metadata": {},
   "source": [
    "### 3.f) QPE energy as a function of distance (noisy qubits)\n",
    "\n",
    "We now perform the same quantum computation, only with a noisy QPU. \n",
    "Read carefully [subsection 2.b) above](#noisy_qubits) to learn about noisy qubits and noisy gates, and their implementation with myQLM."
   ]
  },
  {
   "cell_type": "code",
   "execution_count": null,
   "id": "7b7e4d94",
   "metadata": {},
   "outputs": [],
   "source": [
    "# n_trotter = \n",
    "# n_phase_bits = \n",
    "\n",
    "from depolarizing_plugin_vec import DepolarizingPluginVec\n",
    "qpu = PyLinalg()\n",
    "depol = DepolarizingPluginVec(prob_1qb=0.005, prob_2qb=0.01)\n",
    "noisy_qpu = depol | qpu\n",
    "\n",
    "# call launch_qpe"
   ]
  },
  {
   "cell_type": "code",
   "execution_count": null,
   "id": "052ff23d",
   "metadata": {},
   "outputs": [],
   "source": [
    "#  plot"
   ]
  },
  {
   "cell_type": "markdown",
   "id": "96a961c1",
   "metadata": {},
   "source": [
    "\n",
    "<div class=\"alert alert-block alert-info\">\n",
    "\n",
    "- **(*)** What do you observe? Does noise degrade the accuracy on the energy? Is chemical accuracy reached?\n",
    "- **(*)** Can some values be lower than the exact ground-state energy? Why?\n",
    "    \n",
    "</div>"
   ]
  },
  {
   "cell_type": "markdown",
   "id": "a60412ff",
   "metadata": {},
   "source": [
    "<a id='sec:iqpe'></a>\n",
    "## 4. Iterative quantum phase estimation (GROUP 4)\n",
    "\n",
    "In this section, we turn to a variant to standard QPE called \"Iterative QPE\". It is described e.g in http://dx.doi.org/10.1103/PhysRevA.76.030306.\n",
    "\n",
    "The idea is to determine the bits of the phase estimate $\\hat{\\varphi}$ one by one starting from the bit with least weight. The advantage of IQPE is that it requires only one ancilla (aka phase) qubit. The price to pay is that one uses the result obtained for the previous bit to obtain the next bit.\n",
    "\n",
    "\n",
    "Here is a basic description of the algorithm:\n",
    "- Initialize a variable $\\omega = 0$, and $j = m$.\n",
    "- While $j > 0$:\n",
    "    - Prepare data register in state $\\psi$ and phase register in state $|+\\rangle$;\n",
    "    - Apply a controlled-$U^{2^{j-1}}$ gate to both registers (with the control on the phase register)\n",
    "    - Apply a $R_z(\\omega)$ rotation, followed by a $H$ gate, to the phase register\n",
    "    - Measure phase register: get a bit $\\varphi_j$ (can be only 0 or 1).\n",
    "    - Update: $\\omega \\leftarrow \\omega/2 - 2 \\pi \\varphi_j / 4$ and $j \\leftarrow j -1$.\n",
    "- Return $\\hat{\\varphi} = - \\omega / \\pi$, \n",
    "\n",
    "This procedure is equivalent to standard QPE described [in this section](#qpe).\n",
    "\n",
    "<div class=\"alert alert-block alert-info\">\n",
    "    \n",
    "- **(*)** Can you prove that this procedure indeed returns a binary approximation $\\hat{\\varphi}$ to the phase, like standard QPE (read the beginning of section 3 for a reminder on QPE)?\n",
    "    \n",
    "</div>"
   ]
  },
  {
   "cell_type": "markdown",
   "id": "b553e8ab",
   "metadata": {},
   "source": [
    "To construct the circuit corresponding to the controlled-$U^{2^{j-1}}$ operation, we are going to use the function ``make_controlled_exp_hamiltonian``: "
   ]
  },
  {
   "cell_type": "code",
   "execution_count": null,
   "id": "94682a78",
   "metadata": {},
   "outputs": [],
   "source": [
    "from qpe_utils import make_controlled_exp_hamiltonian\n",
    "\n",
    "## uncomment the following line to see the documentation of the function.\n",
    "# make_controlled_exp_hamiltonian?"
   ]
  },
  {
   "cell_type": "markdown",
   "id": "ff6d0bf2",
   "metadata": {},
   "source": [
    "Read carefully the [section on Trotterization](#trotterization).\n",
    "\n",
    "<div class=\"alert alert-block alert-info\">\n",
    "    \n",
    "- **(*)** Can you explain how the ``make_controlled_exp_hamiltonian`` function works based on the description of the Trotterization procedure above?\n",
    "- **(*)** If a Hamiltonian contains $M$ noncommuting terms, how many $\\exp(-i\\alpha \\lambda_i / N P_i)$ subcircuits will the $U$ circuit contain?\n",
    "- **(*)** How to implement a single $\\exp(-i\\alpha P_i)$ term? Can you explain how the corresponding routine, ``construct_Rk_routine`` (in the ``qpe_utils`` module), works?\n",
    "    \n",
    "</div>"
   ]
  },
  {
   "cell_type": "markdown",
   "id": "22fb98c4",
   "metadata": {},
   "source": [
    "We can now write the full IQPE function by closely following the above description of the algorithm.\n",
    "\n",
    "Note: Instead of using gates to prepare the ground state, we can, to make our life simpler, apply instead a ``StatePreparation`` routine that exactly prepares a given quantum state ``psi_init`` with the syntax ``prog.apply(StatePreparation(psi_init), phase_reg, data_reg)``."
   ]
  },
  {
   "cell_type": "code",
   "execution_count": null,
   "id": "bd431a5d",
   "metadata": {},
   "outputs": [],
   "source": [
    "from qat.lang.AQASM.qftarith import IQFT\n",
    "from qat.lang.AQASM import H, QRoutine, RX, Program\n",
    "from qat.lang.AQASM import CNOT, RZ\n",
    "from qat.lang.AQASM import QInt\n",
    "from qat.lang.AQASM import AbstractGate\n",
    "StatePreparation = AbstractGate(\"STATE_PREPARATION\", [np.ndarray])\n",
    "\n",
    "\n",
    "def perform_iqpe(qpu, hamiltonian, psi0, n_phase_bits, n_trotter, t0=1.0, order=1, verbose=False):\n",
    "    \"\"\"\n",
    "    Args:\n",
    "        qpu (QPU): a QPU\n",
    "        hamiltonian (Observable): a Hamiltonian\n",
    "        psi0 (np.array): an eigenvector of H\n",
    "        n_phase_bits (int): number of bits for the phase\n",
    "        n_trotter (int): number of trotter slices\n",
    "        verbose (bool, optional): for verbose output. Defaults to False.\n",
    "        \n",
    "    Returns:\n",
    "        float: the estimated phase phi corresponding to U = exp(2 i \\pi phi) = exp(- i H t0)\n",
    "    \"\"\"\n",
    "    # we prepare the initial state |0>|psi0> of the register\n",
    "    phase_reg_in = np.zeros((2,))\n",
    "    phase_reg_in[0] = 1.0 # |0>\n",
    "    psi_init = np.kron(phase_reg_in, psi0)\n",
    "    \n",
    "    omega = 0.0\n",
    "    for j_ind in range(n_phase_bits, 0, -1):\n",
    "        # we initialize the program\n",
    "        prog = Program()\n",
    "        phase_reg = prog.qalloc(1, class_type=QInt, reverse_bit_order=False)\n",
    "        data_reg = prog.qalloc(hamiltonian.nbqbits)\n",
    "\n",
    "        # we use a StatePreparation gate to prepare psi_init\n",
    "        # this is somewhat of a trick: this assumes we can prepare exactly the ground state\n",
    "        # if we don't want to cheat we can replace the StatePreparation routine\n",
    "        # by a routine (gates) that prepare an approximate ground state\n",
    "        prog.apply(StatePreparation(psi_init), phase_reg, data_reg)\n",
    "\n",
    "        # apply gates\n",
    "        # ...\n",
    "        \n",
    "        # we generate the corresponding circuit and execute it\n",
    "        # ...\n",
    "\n",
    "        # update omega\n",
    "        # ...\n",
    "       \n",
    "    # return answer\n",
    "    # ... "
   ]
  },
  {
   "cell_type": "markdown",
   "id": "8deec160",
   "metadata": {},
   "source": [
    "### 4.a) Studying IQPE at a fixed distance\n",
    "\n",
    "We start by studying the behavior of IQPE at fixed bond distance $R=0.2 A$."
   ]
  },
  {
   "cell_type": "code",
   "execution_count": null,
   "id": "c4e9e716",
   "metadata": {},
   "outputs": [],
   "source": [
    "h = hamilt[0.2]\n",
    "t0 = qpe_t0[0.2]\n",
    "# ...\n"
   ]
  },
  {
   "cell_type": "markdown",
   "id": "d29f9adb",
   "metadata": {},
   "source": [
    "\n",
    "<div class=\"alert alert-block alert-info\">\n",
    "\n",
    "- **(*)** Study the influence of various numbers of Trotter steps and phase bits on the computed phase\n",
    "    \n",
    "</div>"
   ]
  },
  {
   "cell_type": "code",
   "execution_count": null,
   "id": "6c7db836",
   "metadata": {},
   "outputs": [],
   "source": [
    "# ..."
   ]
  },
  {
   "cell_type": "markdown",
   "id": "8dcf9e1a",
   "metadata": {},
   "source": [
    "<div class=\"alert alert-block alert-info\">\n",
    "    \n",
    "- **(*)** Display the quantum routine that you just wrote and tested using ``%qatdisplay``. Is is similar to the one used by O'Malley et al? Where do the discrepancies come from?\n",
    "\n",
    "</div>\n",
    "\n",
    "<div align=\"center\"><img src=\"data/omalley_fig4.png\" width=\"50%\"></div>\n",
    "\n",
    "    "
   ]
  },
  {
   "cell_type": "markdown",
   "id": "0f9703f0",
   "metadata": {},
   "source": [
    "### 4.b) Computing IQPE ground state energy for all distances (perfect qubits)\n",
    "\n",
    "We now perform the IQPE computation for all distances."
   ]
  },
  {
   "cell_type": "code",
   "execution_count": null,
   "id": "06d79853",
   "metadata": {},
   "outputs": [],
   "source": [
    "def launch_iqpe(qpu, n_trotter, n_phase_bits):\n",
    "    E_QPEs = []\n",
    "    for ind, d in enumerate(hamilt.keys()):\n",
    "        h = hamilt[d]\n",
    "        # ... call perform_iqpe\n",
    "    return E_QPEs"
   ]
  },
  {
   "cell_type": "code",
   "execution_count": null,
   "id": "ce157bc2",
   "metadata": {},
   "outputs": [],
   "source": [
    "from qat.qpus import PyLinalg\n",
    "# n_trotter = \n",
    "# n_phase_bits = \n",
    "qpu = PyLinalg()\n",
    "# call launch_iqpe\n",
    "# ..."
   ]
  },
  {
   "cell_type": "code",
   "execution_count": null,
   "id": "d597cc4e",
   "metadata": {},
   "outputs": [],
   "source": [
    "# plot"
   ]
  },
  {
   "cell_type": "markdown",
   "id": "2e67ba07",
   "metadata": {},
   "source": [
    "\n",
    "<div class=\"alert alert-block alert-info\">\n",
    "    \n",
    "- **(*)** What do you observe? How does it compare with the results (see Figure in section 2.b) above) in the paper?\n",
    "- **(*)** What happens when you increase the number of Trotter steps?\n",
    "    \n",
    "</div>"
   ]
  },
  {
   "cell_type": "markdown",
   "id": "6684ea2d",
   "metadata": {},
   "source": [
    "### 4.c) Computing the IQPE ground-state energy for all distances (noisy qubits)\n",
    "\n",
    "We now perform the same quantum computation, only with a noisy QPU. \n",
    "Read carefully [subsection 2.b) above](#noisy_qubits) to learn about noisy qubits and noisy gates, and their implementation with myQLM."
   ]
  },
  {
   "cell_type": "code",
   "execution_count": null,
   "id": "23a4e736",
   "metadata": {},
   "outputs": [],
   "source": [
    "from depolarizing_plugin_vec import DepolarizingPluginVec\n",
    "\n",
    "depol = DepolarizingPluginVec(prob_1qb=0.01, prob_2qb=0.05)\n",
    "qpu = PyLinalg()\n",
    "noisy_qpu = depol | qpu\n",
    "\n",
    "# call launch_iqpe\n",
    "# ..."
   ]
  },
  {
   "cell_type": "code",
   "execution_count": null,
   "id": "2874057b",
   "metadata": {},
   "outputs": [],
   "source": [
    "# plot"
   ]
  },
  {
   "cell_type": "markdown",
   "id": "dfa99a0c",
   "metadata": {},
   "source": [
    "\n",
    "<div class=\"alert alert-block alert-info\">\n",
    "    \n",
    "- **(*)** What do you observe? Does noise degrade the results?\n",
    "- **(*)** What happens when the noise level increases?\n",
    "    \n",
    "</div>\n",
    "\n"
   ]
  }
 ],
 "metadata": {
  "celltoolbar": "Diaporama",
  "kernelspec": {
   "display_name": "Python 3",
   "language": "python",
   "name": "python3"
  },
  "language_info": {
   "codemirror_mode": {
    "name": "ipython",
    "version": 3
   },
   "file_extension": ".py",
   "mimetype": "text/x-python",
   "name": "python",
   "nbconvert_exporter": "python",
   "pygments_lexer": "ipython3",
   "version": "3.8.10"
  },
  "latex_envs": {
   "LaTeX_envs_menu_present": true,
   "autoclose": false,
   "autocomplete": false,
   "bibliofile": "biblio.bib",
   "cite_by": "apalike",
   "current_citInitial": 1,
   "eqLabelWithNumbers": true,
   "eqNumInitial": 1,
   "hotkeys": {
    "equation": "Ctrl-E",
    "itemize": "Ctrl-I"
   },
   "labels_anchors": false,
   "latex_user_defs": false,
   "report_style_numbering": false,
   "user_envs_cfg": false
  }
 },
 "nbformat": 4,
 "nbformat_minor": 5
}
